{
  "cells": [
    {
      "cell_type": "markdown",
      "metadata": {
        "id": "view-in-github",
        "colab_type": "text"
      },
      "source": [
        "<a href=\"https://colab.research.google.com/github/azizulkawser/Deep_Learning/blob/main/DL2023_assign3_MOHAMMAD_AZIZUL_KAWSER_2207846.ipynb\" target=\"_parent\"><img src=\"https://colab.research.google.com/assets/colab-badge.svg\" alt=\"Open In Colab\"/></a>"
      ]
    },
    {
      "cell_type": "markdown",
      "metadata": {
        "id": "9coUol5P0_Kf"
      },
      "source": [
        "# 521153S Deep Learning assignment 3: Training DL networks\n",
        "\n"
      ]
    },
    {
      "cell_type": "markdown",
      "metadata": {
        "id": "mlunqCa70_Kh"
      },
      "source": [
        "This assignment is designed by Huali Xu.\n",
        "\n",
        "## Outline\n",
        "#### In this assignment, you will learn:\n",
        "* Writing custom dataset in Pytorch with training, validation and testing data.\n",
        "* Building a Convolutional Neural Network (CNN) in Pytorch.\n",
        "* Training and testing your CNN in Pytorch.\n",
        "\n",
        "#### Tasks (<span style=\"color:green\">15 points or more</span>)\n",
        "* **Part 1.** Writing a custom dataset based on Fashion-MNIST\n",
        "    * 1.1. Define a Dataset class (<span style=\"color:green\">2 points</span>)\n",
        "    * 1.2. Dataset checking (<span style=\"color:green\">2.5 points</span>)\n",
        "    * 1.3. Iterating through the dataset with batches (<span style=\"color:green\">1 points</span>)<br>\n",
        "* **Part 2.** Build a CNN on your own. (<span style=\"color:green\">3.5 points</span>) <br>\n",
        "* **Part 3.** Train and test your CNN. (<span style=\"color:green\">6 points or more</span>)\n",
        "    * 3.1. Create functions for train and evaluation (<span style=\"color:green\">2.5 points</span>) <br>\n",
        "    * 3.2. Train and test your network (<span style=\"color:green\">1.5 point</span>) <br>\n",
        "    * 3.3. Modification for your training (<span style=\"color:green\">1 point or more</span>) <br>\n",
        "    * Question: give your ideas to accelerate your training process (<span style=\"color:green\">1 points or more</span>)\n",
        "\n",
        "\n",
        "#### Environment\n",
        "Python 3, Numpy, matplotlib, torch, torchvision\n",
        "\n",
        "#### Dataset\n",
        "* [**Fashion-MNIST**](https://github.com/zalandoresearch/fashion-mnist)\n",
        "is a dataset of Zalando's article images—consisting of a training set of 60,000 examples and a test set of 10,000 examples. Each example is a 28x28 grayscale image, associated with a label from 10 classes. Here we choose the examples that with a label from the first 5 classes (including the training set of 30,000 examples and the test set of 5,000 examples). We intend Fashion-MNIST to serve as a direct drop-in replacement for the original MNIST dataset for benchmarking machine learning algorithms. It shares the same image size and structure of training, validation and testing splits. Using the Fashion-MNIST give you more room to wiggle your experiments.\n",
        "\n",
        "#### Hints\n",
        "* To find the place where you have to insert your solution, hit Crtl + F and search for **TODO:** . You are not supposed to modify the codes from other parts.\n",
        "* Be careful with the shapes of the tensors flowing through the CNN model, making all the operations have compatible inputs and outputs."
      ]
    },
    {
      "cell_type": "markdown",
      "metadata": {
        "id": "Pc3l_I4G0_Ki"
      },
      "source": [
        "## Part 1. Writing a custom dataset based on Fashion-MNIST (<span style=\"color:green\">5.5 points</span>)"
      ]
    },
    {
      "cell_type": "markdown",
      "metadata": {
        "id": "LTC29E_K0_Kj"
      },
      "source": [
        "### Part 1.1. Define a Dataset class (<span style=\"color:green\">2 points</span>)"
      ]
    },
    {
      "cell_type": "code",
      "execution_count": null,
      "metadata": {
        "colab": {
          "base_uri": "https://localhost:8080/"
        },
        "id": "Dh8j7Ua70_Kj",
        "outputId": "68651807-fa1a-4154-9cd8-d315ec68649b"
      },
      "outputs": [
        {
          "output_type": "stream",
          "name": "stdout",
          "text": [
            "Collecting onedrivedownloader\n",
            "  Downloading onedrivedownloader-1.1.3-py3-none-any.whl (5.1 kB)\n",
            "Requirement already satisfied: requests in /usr/local/lib/python3.10/dist-packages (from onedrivedownloader) (2.31.0)\n",
            "Requirement already satisfied: tqdm in /usr/local/lib/python3.10/dist-packages (from onedrivedownloader) (4.66.1)\n",
            "Requirement already satisfied: charset-normalizer<4,>=2 in /usr/local/lib/python3.10/dist-packages (from requests->onedrivedownloader) (3.3.2)\n",
            "Requirement already satisfied: idna<4,>=2.5 in /usr/local/lib/python3.10/dist-packages (from requests->onedrivedownloader) (3.6)\n",
            "Requirement already satisfied: urllib3<3,>=1.21.1 in /usr/local/lib/python3.10/dist-packages (from requests->onedrivedownloader) (2.0.7)\n",
            "Requirement already satisfied: certifi>=2017.4.17 in /usr/local/lib/python3.10/dist-packages (from requests->onedrivedownloader) (2023.11.17)\n",
            "Installing collected packages: onedrivedownloader\n",
            "Successfully installed onedrivedownloader-1.1.3\n"
          ]
        }
      ],
      "source": [
        "!pip install onedrivedownloader"
      ]
    },
    {
      "cell_type": "code",
      "execution_count": null,
      "metadata": {
        "colab": {
          "base_uri": "https://localhost:8080/"
        },
        "id": "QGFQw8yq0_Kk",
        "outputId": "633df24b-4191-49af-ed13-aaf0354f2029"
      },
      "outputs": [
        {
          "output_type": "stream",
          "name": "stdout",
          "text": [
            "Downloading dataset\n"
          ]
        },
        {
          "output_type": "stream",
          "name": "stderr",
          "text": [
            "100%|██████████| 30.6M/30.6M [00:02<00:00, 12.1MiB/s]\n"
          ]
        },
        {
          "output_type": "stream",
          "name": "stdout",
          "text": [
            "Unzipping file...\n"
          ]
        },
        {
          "output_type": "stream",
          "name": "stderr",
          "text": [
            "Extracting files: 100%|██████████| 4/4 [00:00<00:00,  5.88it/s]\n"
          ]
        }
      ],
      "source": [
        "from onedrivedownloader import download\n",
        "import os\n",
        "\n",
        "link = 'https://unioulu-my.sharepoint.com/:u:/g/personal/hliu22_univ_yo_oulu_fi/EatDho3877JMlYugij_sKBkBqRz5s8hvmC1DQb0LT-W-lA?e=vkdebU'\n",
        "\n",
        "if not os.path.exists('./data/fashion_mnist_npy'):\n",
        "    print('Downloading dataset')\n",
        "    download(link, filename=\"./fashion_mnist_npy_hw3.zip\", unzip=True, unzip_path='./data/fashion_mnist_npy')"
      ]
    },
    {
      "cell_type": "code",
      "execution_count": null,
      "metadata": {
        "id": "-d8siJFn0_Kk"
      },
      "outputs": [],
      "source": [
        "# import necessary packages\n",
        "import os\n",
        "import torch\n",
        "import requests, zipfile, sys\n",
        "import numpy as np\n",
        "import matplotlib.pyplot as plt\n",
        "from torch.utils.data import Dataset, DataLoader\n",
        "import torchvision\n",
        "from PIL import Image\n",
        "import torch\n",
        "import torch.nn as nn\n",
        "import torch.nn.functional as F\n",
        "import torch.optim as optim\n",
        "from torchvision import transforms\n",
        "\n",
        "\n",
        "# fashion_MNIST dataset\n",
        "data_dir='./data/fashion_mnist_npy/'\n",
        "train_data = np.load(os.path.join(data_dir, 'train_data.npy'))\n",
        "test_data = np.load(os.path.join(data_dir, 'test_data.npy'))\n",
        "train_label = np.load(os.path.join(data_dir, 'train_labels.npy'))\n",
        "test_label = np.load(os.path.join(data_dir, 'test_labels.npy'))\n",
        "\n",
        "# select 5 classes\n",
        "selected_classes = [0, 1, 2, 3, 4]\n",
        "\n",
        "# choose the data from the selected 5 classes\n",
        "train_mask = np.isin(train_label, selected_classes)\n",
        "train_data = train_data[train_mask]\n",
        "train_label = train_label[train_mask]\n",
        "\n",
        "test_mask = np.isin(test_label, selected_classes)\n",
        "test_data = test_data[test_mask]\n",
        "test_label = test_label[test_mask]\n",
        "\n",
        "# split the training data to a new training data and validation data\n",
        "class_indices = [[] for i in range(5)]\n",
        "for i, v in enumerate(train_label):\n",
        "    class_indices[v].append(i)\n",
        "\n",
        "indices_all = np.random.permutation(len(class_indices[0]))\n",
        "# take the first 1000 indices of indices_all\n",
        "indices = indices_all[:1000]\n",
        "# take the rest of the indices of indices_all\n",
        "indices_rest = indices_all[1000:]\n",
        "\n",
        "valid_indices = []\n",
        "train_indices = []\n",
        "for i in range(5):\n",
        "    # build indices for validation set\n",
        "    valid_indices.extend(np.array(class_indices[i])[indices])\n",
        "    # TODO: build indices for training set (0.25 points)\n",
        "    # your code here\n",
        "    train_indices.extend(np.array(class_indices[i])[indices_rest])\n",
        "\n",
        "# write the custom dataset based on the dataset\n",
        "class FashionMnist(Dataset):\n",
        "    \"\"\"Fashion Mnist dataset\"\"\"\n",
        "\n",
        "    def __init__(self, phase='train', transform=None):\n",
        "\n",
        "        # TODO: now, split the predefined training data (1.5 points)\n",
        "        # Make the examples of training, valid, and test as 25000, 5000 and 5000, and make samples in each category be balance.\n",
        "        if 'train' == phase:\n",
        "            # your code here\n",
        "            self.data = train_data[train_indices]\n",
        "            self.label = train_label[train_indices]\n",
        "\n",
        "\n",
        "        elif 'valid' == phase:\n",
        "            # your code here\n",
        "            self.data = train_data[valid_indices]\n",
        "            self.label = train_label[valid_indices]\n",
        "\n",
        "\n",
        "        elif 'test' == phase:\n",
        "            # your code here\n",
        "            self.data = test_data\n",
        "            self.label = test_label\n",
        "\n",
        "        else:\n",
        "            assert True, 'wrong phase'\n",
        "\n",
        "\n",
        "        self.transform = transform\n",
        "\n",
        "        self.label_names = ['T-shirt/top', 'Trouser', 'Pullover', 'Dress', 'Coat']\n",
        "\n",
        "    def __len__(self):\n",
        "        return len(self.data)\n",
        "\n",
        "    def __getitem__(self, index):\n",
        "\n",
        "        # TODO: get image and label according to the index (0.25 points)\n",
        "        # your code here\n",
        "        img, label = self.data[index], self.label[index]\n",
        "\n",
        "\n",
        "        # doing this so that it is consistent with all other datasets\n",
        "        # to return a PIL Image\n",
        "        img = Image.fromarray(img, mode='L')\n",
        "\n",
        "        if self.transform is not None:\n",
        "            img = self.transform(img)\n",
        "\n",
        "        return img, label\n"
      ]
    },
    {
      "cell_type": "markdown",
      "metadata": {
        "id": "oVD2U0do0_Kl"
      },
      "source": [
        "### Part 1.2. Dataset checking (<span style=\"color:green\">2.5 points</span>)\n",
        "First, randomly show some images in training, validation and testing data and check if the images have correct labels.<br>\n",
        "Secondly, check the number of images for each class, to make sure the dataset created correctly."
      ]
    },
    {
      "cell_type": "code",
      "execution_count": null,
      "metadata": {
        "scrolled": false,
        "colab": {
          "base_uri": "https://localhost:8080/",
          "height": 442
        },
        "id": "t_mHXw6u0_Kl",
        "outputId": "fbfc4941-3fb1-417b-f676-06177ebe8e3b"
      },
      "outputs": [
        {
          "output_type": "display_data",
          "data": {
            "text/plain": [
              "<Figure size 1600x800 with 5 Axes>"
            ],
            "image/png": "[encoded data removed]"
          },
          "metadata": {}
        },
        {
          "output_type": "stream",
          "name": "stdout",
          "text": [
            "total number of training set: 25000\n",
            "numer of images for class T-shirt/top: 5000\n",
            "numer of images for class Trouser: 5000\n",
            "numer of images for class Pullover: 5000\n",
            "numer of images for class Dress: 5000\n",
            "numer of images for class Coat: 5000\n"
          ]
        }
      ],
      "source": [
        "# checking training set\n",
        "# randomly show some samples and their labels\n",
        "# TODO: create a FashionMnist dataset for training, set transform to None (0.5 points)\n",
        "# your code here\n",
        "train_set = FashionMnist(phase='train', transform=None) #this is the first 0.25 points, see the rest 0.25 points in Part 1.3\n",
        "\n",
        "num_to_show = 5\n",
        "idx = np.random.choice(range(len(train_set)), num_to_show, replace=False) # randomly pick 5 pictures to show\n",
        "\n",
        "fig = plt.figure(figsize=(16, 8))\n",
        "\n",
        "for i in range(len(idx)):\n",
        "    image, label = train_set[idx[i]]\n",
        "    label_name = train_set.label_names[label]\n",
        "\n",
        "    ax = plt.subplot(1, num_to_show, i + 1)\n",
        "    plt.tight_layout()\n",
        "    ax.set_title('class #{}'.format(label_name))\n",
        "    ax.axis('off')\n",
        "    plt.imshow(np.asarray(image))\n",
        "\n",
        "plt.show()\n",
        "\n",
        "# print number of images for each class\n",
        "print('total number of training set: {}'.format(len(train_set)))\n",
        "for i in range(5):\n",
        "    print('numer of images for class {}: {}'.format(train_set.label_names[i], np.sum(train_set.label==i)))"
      ]
    },
    {
      "cell_type": "code",
      "execution_count": null,
      "metadata": {
        "colab": {
          "base_uri": "https://localhost:8080/"
        },
        "id": "zfPgMdan0_Km",
        "outputId": "d0dcb01b-82db-4bae-e567-83cc269fbf20"
      },
      "outputs": [
        {
          "output_type": "display_data",
          "data": {
            "text/plain": [
              "<Figure size 1600x800 with 5 Axes>"
            ],
            "image/png": "[encoded data removed]"
          },
          "metadata": {}
        },
        {
          "output_type": "stream",
          "name": "stdout",
          "text": [
            "total number of validation set: 5000\n",
            "numer of images for class T-shirt/top: 1000\n",
            "numer of images for class Trouser: 1000\n",
            "numer of images for class Pullover: 1000\n",
            "numer of images for class Dress: 1000\n",
            "numer of images for class Coat: 1000\n"
          ]
        }
      ],
      "source": [
        "# TODO:checking validation data (1 points)\n",
        "# your code here, like the training set, the output in this section should be like this (you can have your own visualization style)\n",
        "validation_set = FashionMnist(phase='valid', transform=None) #this is the first 0.25 points, see the rest 0.25 points in Part 1.3\n",
        "\n",
        "num_to_show = 5\n",
        "idx = np.random.choice(range(len(validation_set)), num_to_show, replace=False) # randomly pick 5 pictures to show\n",
        "\n",
        "fig = plt.figure(figsize=(16, 8))\n",
        "\n",
        "for i in range(len(idx)):\n",
        "    image, label = validation_set[idx[i]]\n",
        "    label_name = validation_set.label_names[label]\n",
        "\n",
        "    ax = plt.subplot(1, num_to_show, i + 1)\n",
        "    plt.tight_layout()\n",
        "    ax.set_title('class #{}'.format(label_name))\n",
        "    ax.axis('off')\n",
        "    plt.imshow(np.asarray(image))\n",
        "\n",
        "plt.show()\n",
        "\n",
        "# print number of images for each class\n",
        "print('total number of validation set: {}'.format(len(validation_set)))\n",
        "for i in range(5):\n",
        "    print('numer of images for class {}: {}'.format(validation_set.label_names[i], np.sum(validation_set.label==i)))\n",
        "\n"
      ]
    },
    {
      "cell_type": "code",
      "execution_count": null,
      "metadata": {
        "colab": {
          "base_uri": "https://localhost:8080/",
          "height": 442
        },
        "id": "RChI2Lbl0_Km",
        "outputId": "2439ddc3-e9a7-48d6-da5c-7cb98de108f4"
      },
      "outputs": [
        {
          "output_type": "display_data",
          "data": {
            "text/plain": [
              "<Figure size 1600x800 with 5 Axes>"
            ],
            "image/png": "[encoded data removed]"
          },
          "metadata": {}
        },
        {
          "output_type": "stream",
          "name": "stdout",
          "text": [
            "total number of testing set: 5000\n",
            "numer of images for class T-shirt/top: 1000\n",
            "numer of images for class Trouser: 1000\n",
            "numer of images for class Pullover: 1000\n",
            "numer of images for class Dress: 1000\n",
            "numer of images for class Coat: 1000\n"
          ]
        }
      ],
      "source": [
        "# TODO: checking testing data (1 points)\n",
        "# your code here\n",
        "testing_set = FashionMnist(phase='test', transform=None) #this is the first 0.25 points, see the rest 0.25 points in Part 1.3\n",
        "\n",
        "num_to_show = 5\n",
        "idx = np.random.choice(range(len(testing_set)), num_to_show, replace=False) # randomly pick 5 pictures to show\n",
        "\n",
        "fig = plt.figure(figsize=(16, 8))\n",
        "\n",
        "for i in range(len(idx)):\n",
        "    image, label = testing_set[idx[i]]\n",
        "    label_name = testing_set.label_names[label]\n",
        "\n",
        "    ax = plt.subplot(1, num_to_show, i + 1)\n",
        "    plt.tight_layout()\n",
        "    ax.set_title('class #{}'.format(label_name))\n",
        "    ax.axis('off')\n",
        "    plt.imshow(np.asarray(image))\n",
        "\n",
        "plt.show()\n",
        "\n",
        "# print number of images for each class\n",
        "print('total number of testing set: {}'.format(len(testing_set)))\n",
        "for i in range(5):\n",
        "    print('numer of images for class {}: {}'.format(testing_set.label_names[i], np.sum(testing_set.label==i)))\n",
        "\n"
      ]
    },
    {
      "cell_type": "markdown",
      "metadata": {
        "id": "Ag3YrOjm0_Km"
      },
      "source": [
        "### Part 1.3. Iterating through the dataset with batches (<span style=\"color:green\">1 points</span>)\n",
        "Here, we add more features with the help of [DataLoader](https://pytorch.org/tutorials/beginner/data_loading_tutorial.html#iterating-through-the-dataset):\n",
        "* Batching the data\n",
        "* Shuffling the data\n",
        "* Load the data in parallel using multiprocessing workers.\n",
        "\n",
        "`torch.utils.data.DataLoader` is an iterator which provides all these features. Parameters used below should be clear. One parameter of interest is collate_fn. You can specify how exactly the samples need to be batched using collate_fn. However, default collate should work fine for most use cases.\n",
        "\n",
        "The `DataLoader` takes as input an instance of `FashionMnist` we defined in Part 1.1. Since images in the dataset currently are all in PIL format, we have to convert them to torch.Tensor by using a transform. Actually, `transform` is often used for data augmentation, further illustrations of `transform` can be found in [https://pytorch.org/tutorials/beginner/data_loading_tutorial.html#writing-custom-datasets-dataloaders-and-transforms](https://pytorch.org/tutorials/beginner/data_loading_tutorial.html#writing-custom-datasets-dataloaders-and-transforms)."
      ]
    },
    {
      "cell_type": "code",
      "execution_count": null,
      "metadata": {
        "id": "MNnQsvwX0_Km"
      },
      "outputs": [],
      "source": [
        "# Set batch_size to 64, shuffling the training set. Number of workers here is set to 0. If your system is Linux,\n",
        "# it is possible to try more workers to do multi-process parallel reading.\n",
        "data_transform = transforms.Compose([transforms.ToTensor()])\n",
        "\n",
        "train_set = FashionMnist(phase='train', transform=data_transform) #the other 0.25 points for create a FashionMnist dataset for training\n",
        "train_loader = DataLoader(train_set, batch_size=64, shuffle=True, num_workers=0)\n",
        "\n",
        "# TODO: create test_loader and valid_loader, both with no shuffling (1 points)\n",
        "# your code here\n",
        "\n",
        "valid_set = FashionMnist(phase='valid', transform=data_transform)\n",
        "valid_loader = DataLoader(valid_set, batch_size=64, shuffle=False, num_workers=0)\n",
        "\n",
        "test_set = FashionMnist(phase='test', transform=data_transform)\n",
        "test_loader = DataLoader(test_set, batch_size=64, shuffle=False, num_workers=0)"
      ]
    },
    {
      "cell_type": "markdown",
      "metadata": {
        "id": "FBUIA4wJ0_Kn"
      },
      "source": [
        "## Part 2. Build a CNN on your own (<span style=\"color:green\">3.5 points</span>)\n",
        "Structure of the CNN (**Conv**: convolutional layer, **BN**: Batch Normalization layer, **Max_pool**: max pooling layer, **FC**: fully connected layer, batch_size=64):\n",
        "<!--![model.png](attachment:model.png)-->\n",
        "<img src=http://yty.kapsi.fi/DLcourse/ass3/CNN.png width=\"800\">"
      ]
    },
    {
      "cell_type": "markdown",
      "metadata": {
        "id": "9xJPnWy20_Kn"
      },
      "source": [
        "To define your own Network, following the rule of thumb:\n",
        "1. Define the layers in `__init__`.\n",
        "2. Do the forward calculation in `forward`."
      ]
    },
    {
      "cell_type": "code",
      "execution_count": null,
      "metadata": {
        "id": "ZuuMXLqV0_Kn"
      },
      "outputs": [],
      "source": [
        "import torch\n",
        "import torch.nn as nn\n",
        "\n",
        "class Network(nn.Module):\n",
        "    def __init__(self, num_classes):\n",
        "        super().__init__()\n",
        "        self.conv1 = nn.Conv2d(1, 32, kernel_size=3)\n",
        "        self.bn1 = nn.BatchNorm2d(32)\n",
        "        self.relu1 = nn.ReLU()\n",
        "        self.pool = nn.MaxPool2d(kernel_size=2, stride=2)\n",
        "\n",
        "        # TODO: rest of layers (1.5 points)\n",
        "        # your code here\n",
        "        self.conv2 = nn.Conv2d(32, 64, kernel_size=3, padding=0)\n",
        "        self.bn2 = nn.BatchNorm2d(64)\n",
        "        self.relu2 = nn.ReLU()\n",
        "        self.pool2 = nn.MaxPool2d(kernel_size=2, stride=2)\n",
        "\n",
        "        self.flatten = nn.Flatten()\n",
        "\n",
        "        self.fc1 = nn.Linear(64 * 5 * 5, 128)\n",
        "        self.relu3 = nn.ReLU()\n",
        "        self.fc2 = nn.Linear(128, num_classes)\n",
        "\n",
        "    def forward(self, x):\n",
        "        x = self.conv1(x)\n",
        "        x = self.bn1(x)\n",
        "        x = self.relu1(x)\n",
        "        x = self.pool(x)\n",
        "\n",
        "        # TODO: fill the rest part, you may need more lines like x = ... (2 points)\n",
        "        # your code here\n",
        "        x = self.conv2(x)\n",
        "        x = self.bn2(x)\n",
        "        x = self.relu2(x)\n",
        "        x = self.pool2(x)\n",
        "\n",
        "        x = x.view(-1, 64 * 5 * 5)  # Flatten the tensor before passing it through fully connected layers\n",
        "\n",
        "        x = self.fc1(x)\n",
        "        x = self.relu3(x)\n",
        "        x = self.fc2(x)\n",
        "\n",
        "        return x\n"
      ]
    },
    {
      "cell_type": "markdown",
      "metadata": {
        "id": "CkE6GZFB0_Kn"
      },
      "source": [
        "## Part 3. Train and test your CNN model (<span style=\"color:green\">6 points or more</span>)\n",
        "### Part 3.1. Create functions for train and evaluation (<span style=\"color:green\">2.5 points</span>)\n",
        "* Instantiate a network.\n",
        "* When training, create an optimizer to take care of network's parameters, calculate the loss and accuracy.\n",
        "* When evaluation, only need to claculate the accuracy."
      ]
    },
    {
      "cell_type": "code",
      "execution_count": null,
      "metadata": {
        "id": "k7SayxRH0_Kn"
      },
      "outputs": [],
      "source": [
        "# instantiate a network\n",
        "net = Network(num_classes=5)\n",
        "\n",
        "# evaluation function\n",
        "def eval(net, data_loader):\n",
        "    use_cuda = torch.cuda.is_available()\n",
        "    if use_cuda:\n",
        "        net = net.cuda()\n",
        "    net.eval()\n",
        "    correct = 0.0\n",
        "    num_images = 0.0\n",
        "    for i_batch, (images, labels) in enumerate(data_loader):\n",
        "        if use_cuda:\n",
        "            images = images.cuda()\n",
        "            labels = labels.cuda()\n",
        "        outs = net(images)\n",
        "#         _, preds = outs.max(1)\n",
        "        preds = outs.argmax(dim=1)\n",
        "        correct += preds.eq(labels).sum()\n",
        "        num_images += len(labels)\n",
        "\n",
        "    acc = correct / num_images\n",
        "    return acc\n",
        "\n",
        "# training function\n",
        "def train(net, train_loader, valid_loader):\n",
        "    loss_function = torch.nn.CrossEntropyLoss()\n",
        "    # TODO: build your SGD optimizer with learning rate=0.01, momentum=0.9, no weight decay (0.5 points)\n",
        "    # your code here\n",
        "    optimizer = torch.optim.SGD(net.parameters(), lr=0.01, momentum=0.9, weight_decay=0.0)\n",
        "\n",
        "    use_cuda = torch.cuda.is_available()\n",
        "    if use_cuda:\n",
        "        net = net.cuda()\n",
        "\n",
        "    epoches = 10\n",
        "    for epoch in range(epoches):\n",
        "        net.train()\n",
        "        correct = 0.0 # used to accumulate number of correctly recognized images\n",
        "        num_images = 0.0 # used to accumulate number of images\n",
        "        for i_batch, (images, labels) in enumerate(train_loader):\n",
        "            if use_cuda:\n",
        "                images = images.cuda()\n",
        "                labels = labels.cuda()\n",
        "            # TODO: rest of the training code\n",
        "            # your code here, including the forward propagation (0.75 points),\n",
        "            # backward propagation (0.75 points) and calculating the accuracy (0.5 points)\n",
        "\n",
        "            # Forward propagation\n",
        "            outs = net(images)\n",
        "            loss = loss_function(outs, labels)\n",
        "\n",
        "            # Backward propagation\n",
        "            optimizer.zero_grad()\n",
        "            loss.backward()\n",
        "            optimizer.step()\n",
        "\n",
        "            # Calculate accuracy\n",
        "            preds = outs.argmax(dim=1)\n",
        "            correct += preds.eq(labels).sum().item()\n",
        "            num_images += len(labels)\n",
        "\n",
        "        acc = correct / num_images\n",
        "        acc_eval = eval(net, valid_loader)\n",
        "        print('epoch: %d, lr: %f, accuracy: %f, loss: %f, valid accuracy: %f' % (epoch, optimizer.param_groups[0]['lr'], acc, loss.item(), acc_eval))\n",
        "\n",
        "    return net"
      ]
    },
    {
      "cell_type": "markdown",
      "metadata": {
        "id": "2_IYYeA_0_Kn"
      },
      "source": [
        "### Part 3.2. Train and test your network (<span style=\"color:green\">1.5 points</span>)"
      ]
    },
    {
      "cell_type": "code",
      "source": [
        "print('Please wait patiently, it may take some seconds...')\n",
        "# TODO: train your network here (0.75 points)\n",
        "# your code here\n",
        "trained_net = train(net, train_loader, valid_loader)\n",
        "\n",
        "# TODO: test your network here on the test set (0.25 points)\n",
        "# your code here\n",
        "test_loader = DataLoader(test_set, batch_size=64, shuffle=False, num_workers=0)\n",
        "acc_test = eval(trained_net, test_loader)\n",
        "\n",
        "print('accuracy on testing data: %f' % acc_test) # a reference output is provided below:\n"
      ],
      "metadata": {
        "colab": {
          "base_uri": "https://localhost:8080/"
        },
        "id": "UNgQeA_Vddy0",
        "outputId": "acac798c-9a8c-4469-e7bd-e360f6062466"
      },
      "execution_count": null,
      "outputs": [
        {
          "output_type": "stream",
          "name": "stdout",
          "text": [
            "Please wait patiently, it may take some seconds...\n",
            "epoch: 0, lr: 0.010000, accuracy: 0.872280, loss: 0.456967, valid accuracy: 0.887400\n",
            "epoch: 1, lr: 0.010000, accuracy: 0.915320, loss: 0.453118, valid accuracy: 0.918000\n",
            "epoch: 2, lr: 0.010000, accuracy: 0.926800, loss: 0.060236, valid accuracy: 0.920600\n",
            "epoch: 3, lr: 0.010000, accuracy: 0.936240, loss: 0.080047, valid accuracy: 0.929200\n",
            "epoch: 4, lr: 0.010000, accuracy: 0.944640, loss: 0.113617, valid accuracy: 0.923200\n",
            "epoch: 5, lr: 0.010000, accuracy: 0.947840, loss: 0.033473, valid accuracy: 0.932200\n",
            "epoch: 6, lr: 0.010000, accuracy: 0.953520, loss: 0.057013, valid accuracy: 0.935000\n",
            "epoch: 7, lr: 0.010000, accuracy: 0.959120, loss: 0.284564, valid accuracy: 0.914000\n",
            "epoch: 8, lr: 0.010000, accuracy: 0.962920, loss: 0.055318, valid accuracy: 0.936400\n",
            "epoch: 9, lr: 0.010000, accuracy: 0.966160, loss: 0.047839, valid accuracy: 0.932000\n",
            "accuracy on testing data: 0.927800\n"
          ]
        }
      ]
    },
    {
      "cell_type": "markdown",
      "metadata": {
        "id": "weRwuT0R0_Ko"
      },
      "source": [
        "### Part 3.3. Modification for your training (<span style=\"color:green\">1 points or more</span>)\n",
        "Try the following tips to improve your network's performance:\n",
        "* Weight decay? (Please set a weight penalty in optimizer)\n",
        "* More epoches?\n",
        "* Maybe more convolutinal or fc layers?\n",
        "\n",
        "**Note**: Each tip has 0.5 points, more tips used, more points you will get. You could come up with your own tips, and they should be reasonable, persuasive and implemented with your code."
      ]
    },
    {
      "cell_type": "code",
      "execution_count": null,
      "metadata": {
        "id": "a8ghLiGx0_Ko"
      },
      "outputs": [],
      "source": [
        "import torch\n",
        "import torch.nn as nn\n",
        "\n",
        "class Improved_Network(nn.Module):\n",
        "    def __init__(self, num_classes):\n",
        "        super().__init__()\n",
        "        self.conv1 = nn.Conv2d(1, 32, kernel_size=3)\n",
        "        self.bn1 = nn.BatchNorm2d(32)\n",
        "        self.relu1 = nn.ReLU()\n",
        "        self.pool = nn.MaxPool2d(kernel_size=2, stride=2)\n",
        "\n",
        "        # TODO: rest of layers (1.5 points)\n",
        "        # your code here\n",
        "        self.conv2 = nn.Conv2d(32, 64, kernel_size=3, padding=0)\n",
        "        self.bn2 = nn.BatchNorm2d(64)\n",
        "        self.relu2 = nn.ReLU()\n",
        "        self.pool2 = nn.MaxPool2d(kernel_size=2, stride=2)\n",
        "\n",
        "        self.flatten = nn.Flatten()\n",
        "\n",
        "        self.fc1 = nn.Linear(64 * 5 * 5, 128)\n",
        "        self.relu3 = nn.ReLU()\n",
        "        self.fc2 = nn.Linear(128, num_classes)\n",
        "\n",
        "    def forward(self, x):\n",
        "        x = self.conv1(x)\n",
        "        x = self.bn1(x)\n",
        "        x = self.relu1(x)\n",
        "        x = self.pool(x)\n",
        "\n",
        "        # TODO: fill the rest part, you may need more lines like x = ... (2 points)\n",
        "        # your code here\n",
        "        x = self.conv2(x)\n",
        "        x = self.bn2(x)\n",
        "        x = self.relu2(x)\n",
        "        x = self.pool2(x)\n",
        "\n",
        "        x = x.view(-1, 64 * 5 * 5)  # Flatten the tensor before passing it through fully connected layers\n",
        "\n",
        "        x = self.fc1(x)\n",
        "        x = self.relu3(x)\n",
        "        x = self.fc2(x)\n",
        "\n",
        "        return x\n",
        "\n",
        "# instantiate a network\n",
        "net = Improved_Network(num_classes=5)\n",
        "\n",
        "# evaluation function\n",
        "def eval(net, data_loader):\n",
        "    use_cuda = torch.cuda.is_available()\n",
        "    if use_cuda:\n",
        "        net = net.cuda()\n",
        "    net.eval()\n",
        "    correct = 0.0\n",
        "    num_images = 0.0\n",
        "    for i_batch, (images, labels) in enumerate(data_loader):\n",
        "        if use_cuda:\n",
        "            images = images.cuda()\n",
        "            labels = labels.cuda()\n",
        "        outs = net(images)\n",
        "#         _, preds = outs.max(1)\n",
        "        preds = outs.argmax(dim=1)\n",
        "        correct += preds.eq(labels).sum()\n",
        "        num_images += len(labels)\n",
        "\n",
        "    acc = correct / num_images\n",
        "    return acc\n",
        "\n",
        "# training function\n",
        "def improved_train(net, train_loader, valid_loader, patience=3):\n",
        "    loss_function = torch.nn.CrossEntropyLoss()\n",
        "    optimizer = torch.optim.SGD(net.parameters(), lr=0.001, momentum=0.9, weight_decay=0.005)\n",
        "    # scheduler = torch.optim.lr_scheduler.StepLR(optimizer, step_size=5, gamma=0.5)\n",
        "\n",
        "    use_cuda = torch.cuda.is_available()\n",
        "    if use_cuda:\n",
        "        net = net.cuda()\n",
        "\n",
        "    # best_valid_accuracy = 0.0\n",
        "    # patience_counter = 0\n",
        "\n",
        "    epoches = 30\n",
        "    for epoch in range(epoches):\n",
        "        net.train()\n",
        "        correct = 0.0\n",
        "        num_images = 0.0\n",
        "        for i_batch, (images, labels) in enumerate(train_loader):\n",
        "            if use_cuda:\n",
        "                images = images.cuda()\n",
        "                labels = labels.cuda()\n",
        "\n",
        "            # Forward propagation\n",
        "            outs = net(images)\n",
        "            loss = loss_function(outs, labels)\n",
        "\n",
        "            # Backward propagation\n",
        "            optimizer.zero_grad()\n",
        "            loss.backward()\n",
        "            optimizer.step()\n",
        "\n",
        "            # Calculate accuracy\n",
        "            preds = outs.argmax(dim=1)\n",
        "            correct += preds.eq(labels).sum().item()\n",
        "            num_images += len(labels)\n",
        "\n",
        "        acc = correct / num_images\n",
        "        acc_eval = eval(net, valid_loader)\n",
        "        print('epoch: %d, lr: %f, accuracy: %f, loss: %f, valid accuracy: %f' % (epoch, optimizer.param_groups[0]['lr'], acc, loss.item(), acc_eval))\n",
        "        # scheduler.step()\n",
        "        # Check for early stopping\n",
        "        # if acc_eval > best_valid_accuracy:\n",
        "        #     best_valid_accuracy = acc_eval\n",
        "        #     patience_counter = 0\n",
        "        # else:\n",
        "        #     patience_counter += 1\n",
        "        #     if patience_counter >= patience:\n",
        "        #         print(f'Early stopping: Validation performance did not improve for {patience} consecutive epochs.')\n",
        "        #         break\n",
        "    return net"
      ]
    },
    {
      "cell_type": "code",
      "source": [
        "print('Please wait patiently, it may take some seconds...')\n",
        "\n",
        "trained_net = improved_train(net, train_loader, valid_loader)\n",
        "\n",
        "test_loader = DataLoader(test_set, batch_size=64, shuffle=False, num_workers=0)\n",
        "acc_test = eval(trained_net, test_loader)\n",
        "\n",
        "print('accuracy on testing data: %f' % acc_test) # a reference output is provided below:"
      ],
      "metadata": {
        "colab": {
          "base_uri": "https://localhost:8080/"
        },
        "id": "mIVYzm_wZxsD",
        "outputId": "4394e8a8-706f-42b2-db65-aaea474ab71d"
      },
      "execution_count": null,
      "outputs": [
        {
          "output_type": "stream",
          "name": "stdout",
          "text": [
            "Please wait patiently, it may take some seconds...\n",
            "epoch: 0, lr: 0.001000, accuracy: 0.829440, loss: 0.229505, valid accuracy: 0.894400\n",
            "epoch: 1, lr: 0.001000, accuracy: 0.897640, loss: 0.482589, valid accuracy: 0.907600\n",
            "epoch: 2, lr: 0.001000, accuracy: 0.912440, loss: 0.133348, valid accuracy: 0.917600\n",
            "epoch: 3, lr: 0.001000, accuracy: 0.920400, loss: 0.228994, valid accuracy: 0.922400\n",
            "epoch: 4, lr: 0.001000, accuracy: 0.924160, loss: 0.112757, valid accuracy: 0.906200\n",
            "epoch: 5, lr: 0.001000, accuracy: 0.930200, loss: 0.207962, valid accuracy: 0.922000\n",
            "epoch: 6, lr: 0.001000, accuracy: 0.930960, loss: 0.127980, valid accuracy: 0.923400\n",
            "epoch: 7, lr: 0.001000, accuracy: 0.936040, loss: 0.212511, valid accuracy: 0.927800\n",
            "epoch: 8, lr: 0.001000, accuracy: 0.937800, loss: 0.159681, valid accuracy: 0.929800\n",
            "epoch: 9, lr: 0.001000, accuracy: 0.941920, loss: 0.183706, valid accuracy: 0.930000\n",
            "epoch: 10, lr: 0.001000, accuracy: 0.943000, loss: 0.293979, valid accuracy: 0.932400\n",
            "epoch: 11, lr: 0.001000, accuracy: 0.944960, loss: 0.161119, valid accuracy: 0.930200\n",
            "epoch: 12, lr: 0.001000, accuracy: 0.948800, loss: 0.146767, valid accuracy: 0.932000\n",
            "epoch: 13, lr: 0.001000, accuracy: 0.950240, loss: 0.063688, valid accuracy: 0.923600\n",
            "epoch: 14, lr: 0.001000, accuracy: 0.950440, loss: 0.082247, valid accuracy: 0.930000\n",
            "epoch: 15, lr: 0.001000, accuracy: 0.954720, loss: 0.117585, valid accuracy: 0.931600\n",
            "epoch: 16, lr: 0.001000, accuracy: 0.956920, loss: 0.158391, valid accuracy: 0.925400\n",
            "epoch: 17, lr: 0.001000, accuracy: 0.956560, loss: 0.155672, valid accuracy: 0.928600\n",
            "epoch: 18, lr: 0.001000, accuracy: 0.956680, loss: 0.055965, valid accuracy: 0.932400\n",
            "epoch: 19, lr: 0.001000, accuracy: 0.959040, loss: 0.207405, valid accuracy: 0.916800\n",
            "epoch: 20, lr: 0.001000, accuracy: 0.961920, loss: 0.081084, valid accuracy: 0.920600\n",
            "epoch: 21, lr: 0.001000, accuracy: 0.961960, loss: 0.107369, valid accuracy: 0.922600\n",
            "epoch: 22, lr: 0.001000, accuracy: 0.962800, loss: 0.204557, valid accuracy: 0.925400\n",
            "epoch: 23, lr: 0.001000, accuracy: 0.965560, loss: 0.081961, valid accuracy: 0.936200\n",
            "epoch: 24, lr: 0.001000, accuracy: 0.965200, loss: 0.179647, valid accuracy: 0.928000\n",
            "epoch: 25, lr: 0.001000, accuracy: 0.967760, loss: 0.059852, valid accuracy: 0.930600\n",
            "epoch: 26, lr: 0.001000, accuracy: 0.965680, loss: 0.065027, valid accuracy: 0.923400\n",
            "epoch: 27, lr: 0.001000, accuracy: 0.966640, loss: 0.092234, valid accuracy: 0.928800\n",
            "epoch: 28, lr: 0.001000, accuracy: 0.967520, loss: 0.065112, valid accuracy: 0.917400\n",
            "epoch: 29, lr: 0.001000, accuracy: 0.966760, loss: 0.110270, valid accuracy: 0.923200\n",
            "accuracy on testing data: 0.913400\n"
          ]
        }
      ]
    },
    {
      "cell_type": "markdown",
      "metadata": {
        "id": "LxwFNQsC0_Ko"
      },
      "source": [
        "###  Question: give your ideas to accelerate your training process (<span style=\"color:green\">1 points or more</span>)\n",
        "#### Your answer: (the first two is 0.5 points each, the rest is 0.25 points each. More ideas, more points, with the upper limit 2 points in total. Please also describe your idea at least for couple of sentences as the ideas should be reasonable and persuasive.)"
      ]
    },
    {
      "cell_type": "markdown",
      "source": [
        "Training deep learning networks can be computationally intensive and time-consuming. Fortunately, there are several techniques and approaches available to help accelerate the training process. Here are some ways to speed up deep learning network training:\n",
        "\n",
        "1. Hardware Acceleration: Utilize specialized hardware such as graphics processing units (GPUs) or tensor processing units (TPUs) that are designed to perform matrix computations efficiently. These hardware accelerators can significantly speed up training times compared to traditional CPUs.\n",
        "\n",
        "2. Distributed Training: Distribute the training process across multiple machines or GPUs. This approach, often referred to as parallel computing, allows for simultaneous training on different subsets of data, reducing the overall training time.\n",
        "\n",
        "3. Mini-Batch Training: Instead of training the network on the entire dataset at once, divide the data into smaller mini-batches. This approach allows for more frequent weight updates and can speed up training, especially when combined with hardware acceleration and distributed training.\n",
        "\n",
        "4. Model Optimization: Optimize the architecture and hyperparameters of the deep learning model. This includes choosing appropriate network architectures, activation functions, regularization techniques, and optimization algorithms to improve training efficiency.\n",
        "\n",
        "5. Transfer Learning: Utilize pre-trained models that are trained on large datasets and transfer their learned features to your specific task. This approach can significantly reduce the training time as the network starts with a good initialization and requires less training on your specific dataset.\n",
        "\n",
        "6. Data Augmentation: Generate additional training samples by applying transformations to existing data, such as rotation, scaling, or cropping. Data augmentation increases the effective size of the training set, leading to better generalization and potentially faster convergence.\n",
        "\n",
        "7. Early Stopping and Learning Rate Scheduling: Monitor the validation loss during training and stop the training process when the validation loss stops improving. Additionally, dynamically adjust the learning rate during training to ensure optimal convergence.\n",
        "\n",
        "8. Model Compression: Apply techniques such as pruning, quantization, or low-rank factorization to reduce the size of the deep learning model. A smaller model requires fewer computations and can be trained faster without significant loss in performance.\n",
        "\n",
        "9. Preprocessing and Data Pipeline Optimization: Optimize the data loading and preprocessing pipeline to minimize I/O operations and ensure efficient utilization of computing resources.\n",
        "\n",
        "10. Cloud Computing: Utilize cloud-based platforms and services that offer scalable computing resources and distributed training capabilities, allowing you to leverage high-performance infrastructure for faster training.\n",
        "\n",
        "It's worth noting that the effectiveness of these techniques can vary depending on the specific deep learning model, dataset, and hardware setup."
      ],
      "metadata": {
        "id": "3PSqEZD6GZ5T"
      }
    },
    {
      "cell_type": "code",
      "execution_count": null,
      "metadata": {
        "id": "q52yILiR0_Ko"
      },
      "outputs": [],
      "source": []
    }
  ],
  "metadata": {
    "kernelspec": {
      "display_name": "Python 3",
      "language": "python",
      "name": "python3"
    },
    "language_info": {
      "codemirror_mode": {
        "name": "ipython",
        "version": 3
      },
      "file_extension": ".py",
      "mimetype": "text/x-python",
      "name": "python",
      "nbconvert_exporter": "python",
      "pygments_lexer": "ipython3",
      "version": "3.8.8"
    },
    "pycharm": {
      "stem_cell": {
        "cell_type": "raw",
        "metadata": {
          "collapsed": false
        },
        "source": []
      }
    },
    "colab": {
      "provenance": [],
      "include_colab_link": true
    }
  },
  "nbformat": 4,
  "nbformat_minor": 0
}