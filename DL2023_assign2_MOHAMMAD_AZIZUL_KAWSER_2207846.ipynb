{
  "cells": [
    {
      "cell_type": "markdown",
      "metadata": {
        "id": "view-in-github",
        "colab_type": "text"
      },
      "source": [
        "<a href=\"https://colab.research.google.com/github/azizulkawser/Deep_Learning/blob/main/DL2023_assign2_MOHAMMAD_AZIZUL_KAWSER_2207846.ipynb\" target=\"_parent\"><img src=\"https://colab.research.google.com/assets/colab-badge.svg\" alt=\"Open In Colab\"/></a>"
      ]
    },
    {
      "cell_type": "markdown",
      "metadata": {
        "id": "DAolVXwCt0Pm"
      },
      "source": [
        "# Deep Learning 2023 - Assignment 2: Neural Networks\n",
        "Designed by Haotian Liu (haotian.liu@oulu.fi)"
      ]
    },
    {
      "cell_type": "markdown",
      "metadata": {
        "id": "Bs35MTBgt0Pp"
      },
      "source": [
        "## Outline\n",
        "#### In this assignment, you will learn:\n",
        "* Neural Network, Deep Neural Network, Loss Function and Optimization.\n",
        "* Building a simple NN using numpy to understand the backpropagation.\n",
        "* Gradient check using finite-difference approximation.\n",
        "* Stochastic Gradient Descent (SGD).\n",
        "* Regularization and simple hype-parameters tuning methods to improve your NN performance."
      ]
    },
    {
      "cell_type": "markdown",
      "metadata": {
        "id": "_VhCohCJt0Pq"
      },
      "source": [
        "#### Grading (<span style=\"color:green\">15 points</span>)\n",
        "\n",
        "* **Part 1. Import Libraries, Loading and Preprocessing the Training and Testing Data.**\n",
        "* **Part 2. Build the Neural Network, Forward and Backward Propagation. (<span style=\"color:green\">9.5 points</span>)**\n",
        "  * 2.1 Check the structure of data samples (<span style=\"color:green\">0.5 points</span>)\n",
        "    * Question (<span style=\"color:green\">0.5 points</span>)\n",
        "  * 2.2 Construct the model and implement the forward propagation (<span style=\"color:green\">5 points</span>)\n",
        "    * Initialize the model parameters (<span style=\"color:green\">1 points</span>)\n",
        "    * Define the activation function (<span style=\"color:green\">3 points</span>)\n",
        "    * Construct the forward propagation function (<span style=\"color:green\">1 points</span>)\n",
        "  * 2.3 Loss function computation and backward propagation (<span style=\"color:green\">4 points</span>)\n",
        "    * Implement the loss function (<span style=\"color:green\">1 points</span>)\n",
        "    * Implement the backward propagation (<span style=\"color:green\">3 points</span>)\n",
        "    * Extended Reading: Gradient check using finite-difference approximation.\n",
        "* **Part 3. Training and Evaluation of Neural Network (<span style=\"color:green\">2.5 points</span>)**\n",
        "  * 3.1 Training your network (<span style=\"color:green\">2 points</span>)\n",
        "  * 3.2 Evaluate the performance of your model (<span style=\"color:green\">0.5 points</span>)\n",
        "\n",
        "* **Part 4. Regularization and Hyperparameter Tuning (<span style=\"color:green\">3 points</span>)**\n",
        "  * 4.1 Implement weight decay loss and backward propagation  (<span style=\"color:green\">2 points</span>)\n",
        "  * 4.2 Hyperparameter Tuning (<span style=\"color:green\">1 points</span>)"
      ]
    },
    {
      "cell_type": "markdown",
      "metadata": {
        "id": "Tygc-bBJt0Pq"
      },
      "source": [
        "#### Environment\n",
        "Python 3, Numpy, matplotlib, sklearn\n",
        "\n",
        "#### Dataset\n",
        "* [**Fashion-MNIST**](https://github.com/zalandoresearch/fashion-mnist)\n",
        "is a dataset of Zalando's article images—consisting of a training set of 60,000 examples and a test set of 10,000 examples. Each example is a 28x28 grayscale image, associated with a label from 10 classes. We intend Fashion-MNIST to serve as a direct drop-in replacement for the original MNIST dataset for benchmarking machine learning algorithms. It shares the same image size and structure of training and testing splits. Using the Fashion-MNIST give you more room to wiggle your experiments.\n",
        "\n",
        "#### Hints\n",
        "* To find the place where you have to insert your solution, hit Crtl + F and search for **TODO:** . You are NOT suppose to modify the codes from other parts.\n",
        "* **Be careful with the shape** of the weights, gradient, .. of your tensor in your implementation. Double check and make sure the shapes are fit for computation, especially matrix multiplication.\n",
        "* You could check the correctness of your code by comparing the intermediate outputs with the **<span style=\"color:green\">Reference Results</span>**. **Remember to do this step by step to avoid getting lost.**"
      ]
    },
    {
      "cell_type": "markdown",
      "metadata": {
        "id": "ke7LiAv8t0Pq"
      },
      "source": [
        "## Part 1. Import Libraries, Loading and Preprocessing the Training and Testing Data\n",
        "**You don't need to change the code from this part.**"
      ]
    },
    {
      "cell_type": "code",
      "execution_count": null,
      "metadata": {
        "id": "kcIbM7Fxt0Pr"
      },
      "outputs": [],
      "source": [
        "# You will mainly use numpy to construct your NN\n",
        "import numpy as np\n",
        "import matplotlib, time, copy, os, requests, zipfile, sys\n",
        "# Matplotlib to plot the image\n",
        "import matplotlib.pyplot as plt\n",
        "# Off-the-shelf evaluation functions provided by sklearn\n",
        "from sklearn.metrics import confusion_matrix, accuracy_score"
      ]
    },
    {
      "cell_type": "markdown",
      "metadata": {
        "id": "4QwTRJ3Xt0Ps"
      },
      "source": [
        "### Functions use to download the dataset from OneDrive\n",
        "Here we use the [onedrivedownloader](https://pypi.org/project/onedrivedownloader/) package for data download."
      ]
    },
    {
      "cell_type": "code",
      "execution_count": null,
      "metadata": {
        "scrolled": true,
        "colab": {
          "base_uri": "https://localhost:8080/"
        },
        "id": "7Pi_e4b7t0Ps",
        "outputId": "a2f818bf-f73e-4a30-e2e3-2c6f860bc4f5"
      },
      "outputs": [
        {
          "output_type": "stream",
          "name": "stdout",
          "text": [
            "Requirement already satisfied: onedrivedownloader in /usr/local/lib/python3.10/dist-packages (1.1.3)\n",
            "Requirement already satisfied: requests in /usr/local/lib/python3.10/dist-packages (from onedrivedownloader) (2.31.0)\n",
            "Requirement already satisfied: tqdm in /usr/local/lib/python3.10/dist-packages (from onedrivedownloader) (4.66.1)\n",
            "Requirement already satisfied: charset-normalizer<4,>=2 in /usr/local/lib/python3.10/dist-packages (from requests->onedrivedownloader) (3.3.2)\n",
            "Requirement already satisfied: idna<4,>=2.5 in /usr/local/lib/python3.10/dist-packages (from requests->onedrivedownloader) (3.4)\n",
            "Requirement already satisfied: urllib3<3,>=1.21.1 in /usr/local/lib/python3.10/dist-packages (from requests->onedrivedownloader) (2.0.7)\n",
            "Requirement already satisfied: certifi>=2017.4.17 in /usr/local/lib/python3.10/dist-packages (from requests->onedrivedownloader) (2023.7.22)\n"
          ]
        }
      ],
      "source": [
        "!pip install onedrivedownloader"
      ]
    },
    {
      "cell_type": "code",
      "execution_count": null,
      "metadata": {
        "id": "T6qXzB4Gt0Pt"
      },
      "outputs": [],
      "source": [
        "from onedrivedownloader import download\n",
        "\n",
        "link = 'https://unioulu-my.sharepoint.com/:u:/g/personal/hliu22_univ_yo_oulu_fi/EW3HQP_PhE9GpXBS50bADNIBzmmQX2lBpaEp-9mWhpPrsA?e=auRurQ'\n",
        "\n",
        "if not os.path.exists('./data_hw2/fashion_mnist_npy'):\n",
        "    print('Downloading dataset')\n",
        "    download(link, filename=\"./fashion_mnist_npy.zip\", unzip=True, unzip_path='./data_hw2/fashion_mnist_npy')"
      ]
    },
    {
      "cell_type": "markdown",
      "metadata": {
        "id": "cIuoCY9Gt0Pt"
      },
      "source": [
        "### Functions use to pre-process your training/testing data"
      ]
    },
    {
      "cell_type": "code",
      "execution_count": null,
      "metadata": {
        "id": "ozL4nWvAt0Pt"
      },
      "outputs": [],
      "source": [
        "def reshape_train_data(X):\n",
        "    ''' Input training data has shape (60000, 28, 28)\n",
        "        Input testing data has shape (10000, 28, 28)\n",
        "        where:\n",
        "        60000 is the numbers of input training samples\n",
        "        10000 is the numbers of input testing samples\n",
        "        similar to MNIST, resolution of each sample is 28 x 28\n",
        "    '''\n",
        "    samples, H, W = X.shape\n",
        "    # Reshape input volume to (sample, 784), this mean, your NN input layer will have 784 placeholders\n",
        "    # we scale the RGB values by divide them by 255, this will help improve the training performance\n",
        "    return X.reshape(samples, H * W).T / 255\n",
        "\n",
        "def one_hot_vector(x, num_classes):\n",
        "    # By now, I think you already heard about this so many times\n",
        "    return np.eye(num_classes)[x].T"
      ]
    },
    {
      "cell_type": "markdown",
      "metadata": {
        "id": "eE1hAHAJt0Pt"
      },
      "source": [
        "### Finally, we load and preprocess the data"
      ]
    },
    {
      "cell_type": "code",
      "execution_count": null,
      "metadata": {
        "colab": {
          "base_uri": "https://localhost:8080/",
          "height": 645
        },
        "id": "ONOVSNrJt0Pu",
        "outputId": "e85cc4f9-744c-4394-8b6c-1a0022b85876"
      },
      "outputs": [
        {
          "output_type": "display_data",
          "data": {
            "text/plain": [
              "<Figure size 1600x800 with 5 Axes>"
            ],
            "image/png": "[encoded data removed]"
          },
          "metadata": {}
        },
        {
          "output_type": "display_data",
          "data": {
            "text/plain": [
              "<Figure size 1600x800 with 5 Axes>"
            ],
            "image/png": "[encoded data removed]"
          },
          "metadata": {}
        }
      ],
      "source": [
        "PATH = os.path.join('data_hw2', 'fashion_mnist_npy')\n",
        "\n",
        "# The actual meaning of the label of your classes.\n",
        "# E.g. if an output one-hot vector is [0. 0. 0. 1. 0. 0. 0. 0. 0. 0.], it used to prepresent a Dress\n",
        "label_names = ['T-shirt/top', 'Trouser', 'Pullover', 'Dress', 'Coat',\n",
        "               'Sandal', 'Shirt', 'Sneaker', 'Bag', 'Ankle boot']\n",
        "\n",
        "# Load the training input\n",
        "X_train = np.load(os.path.join(PATH, 'train_data.npy'))\n",
        "# Load the training labels\n",
        "X_test = np.load(os.path.join(PATH, 'test_data.npy'))\n",
        "# Load the testing input\n",
        "Y_train = np.load(os.path.join(PATH, 'train_labels.npy'))\n",
        "# Load the testing labels\n",
        "Y_test = np.load(os.path.join(PATH, 'test_labels.npy'))\n",
        "\n",
        "# Get the number of classes\n",
        "num_classes = len(label_names)\n",
        "# Get the number of training samples and their resolution for reshape\n",
        "num_trains, HEIGHT, WIDTH = X_train.shape\n",
        "\n",
        "# Reshape the training and testing inputs\n",
        "X_train, X_test = reshape_train_data(X_train), reshape_train_data(X_test)\n",
        "\n",
        "# Create one-hot vector for the training and testing labels\n",
        "Y_train, Y_test = one_hot_vector(Y_train, num_classes), one_hot_vector(Y_test, num_classes)\n",
        "\n",
        "# This part use to randomly load some of the training and testing image and the one-hot vectors for checking\n",
        "fig_train, ax_train = plt.subplots(figsize=(16, 8), nrows=1, ncols=5)\n",
        "fig_train.suptitle(\"Random image from the TRAINING set\", y=0.73, fontsize=16, fontweight='bold')\n",
        "\n",
        "fig_test, ax_test = plt.subplots(figsize=(16, 8), nrows=1, ncols=5)\n",
        "fig_test.suptitle(\"Random image from the TESTING set\", y=0.73, fontsize=16, fontweight='bold')\n",
        "\n",
        "for idx in range(5):\n",
        "    i, j = np.random.randint(num_trains), np.random.randint(X_test.shape[0])\n",
        "\n",
        "    ax_train[idx].imshow(X_train[:,i].reshape(HEIGHT, WIDTH), cmap = matplotlib.cm.binary)\n",
        "    ax_train[idx].set_title(label_names[np.argmax(Y_train[:,i])] + \"\\n\" + str(Y_train[:,i]))\n",
        "    ax_train[idx].axis('off')\n",
        "\n",
        "    ax_test[idx].imshow(X_test[:,j].reshape(HEIGHT, WIDTH), cmap = matplotlib.cm.binary)\n",
        "    ax_test[idx].set_title(label_names[np.argmax(Y_test[:,j])] + \"\\n\" + str(Y_test[:,j]))\n",
        "    ax_test[idx].axis('off')"
      ]
    },
    {
      "cell_type": "markdown",
      "metadata": {
        "id": "nw48g29xt0Pu"
      },
      "source": [
        "## Part 2. Build the Neural Network, Forward and Backward Propagation (<span style=\"color:green\">9.5 points</span>)\n",
        "#### The fun part start from here.\n",
        "*Definition:* loss function is a function that maps an event or values of one or more variables onto a real number intuitively representing some \"cost\" associated with the event. Loss function (sometimes called cost function) is used to calculate the gradient by applying the chain rule, so that we can update the weights (and bias) of our neural network using an optimizer such as gradient descent. <br>\n",
        "It could be interpreted as using the loss function to calculate the network’s layers error, in which we calculate the error of the current layer, then pass the weighted error back to the previous layer, and recursively doing this until we travel back to the first hidden layer. At each layer, we update the weights using the derivative of the cost for each weight.\n",
        "\n",
        "Let illustrate this concept using a simple toy example.\n",
        "\n"
      ]
    },
    {
      "cell_type": "markdown",
      "metadata": {
        "id": "8s1hQNFwt0Pu"
      },
      "source": [
        "![Figure1.png](http://yty.kapsi.fi/DLcourse/ass1/Figure1.png)"
      ]
    },
    {
      "cell_type": "markdown",
      "metadata": {
        "id": "LfKMNFV4t0Pu"
      },
      "source": [
        "<center> <strong> <font size=\"3\" color=\"blue\"> Figure 1. Toy example of backpropagation </font> </strong> </center>\n",
        "\n",
        "In **Fig. 1** we have a loss function $L$:\n",
        "\\begin{align}\n",
        "L = c \\times d\n",
        "\\end{align}\n",
        "\n",
        "where <br>\n",
        "\n",
        "\\begin{align}\n",
        "c = a + b -5\n",
        "\\end{align}\n",
        "\n",
        "and, <br>\n",
        "\n",
        "\\begin{align}\n",
        "d = b^2 + b -1\n",
        "\\end{align}\n",
        "\n",
        "As illustrated in **Fig. 1**, the equations in the edge show the partial derivation of some functions with respect to their direct variables. For example, $\\frac{\\partial L}{\\partial c}$ is the partial derivative of $L$ with respect to $c$. <br>\n",
        "However, we are actually interested in calculating the derivative of $L$ with respect to $a$ and $b$, which don't directly connected with each other. So, how can we do this? As mentioned earlier, we can do this using the chain-rule so that we can calculate $\\frac{\\partial L}{\\partial a}$ and $\\frac{\\partial L}{\\partial b}$ as:\n",
        "\n",
        "\\begin{align}\n",
        "\\frac{\\partial L}{\\partial a} = \\frac{\\partial L}{\\partial c} \\cdot \\frac{\\partial c}{\\partial a}\n",
        "\\end{align}\n",
        "\n",
        "and, <br>\n",
        "\n",
        "\\begin{align}\n",
        "\\frac{\\partial L}{\\partial b} = \\frac{\\partial L}{\\partial c} \\cdot \\frac{\\partial c}{\\partial b} + \\frac{\\partial L}{\\partial d} \\cdot \\frac{\\partial d}{\\partial b}\n",
        "\\end{align}\n",
        "\n",
        "More importantly, **we can see that $a$ affect $L$ through $c$, and so on**. This concept hold no matter how many hidden layers you have or how complicated your loss will be as long as you use backpropagation to calculate the derivative to update your weights."
      ]
    },
    {
      "cell_type": "markdown",
      "metadata": {
        "id": "9tVfVlk5t0Pu"
      },
      "source": [
        "**Now, let's get your hand dirty.**"
      ]
    },
    {
      "cell_type": "markdown",
      "metadata": {
        "id": "cqttnJiHt0Pu"
      },
      "source": [
        "### 2.1 Check the structure of data samples (<span style=\"color:green\">0.5 points</span>)"
      ]
    },
    {
      "cell_type": "markdown",
      "metadata": {
        "id": "B32eas2Nt0Pu"
      },
      "source": [
        "Before we start, one important thing is to check the structure of data samples. We can run the following code to print the shape of traing and testing data."
      ]
    },
    {
      "cell_type": "code",
      "execution_count": null,
      "metadata": {
        "colab": {
          "base_uri": "https://localhost:8080/"
        },
        "id": "6OdcOOOut0Pu",
        "outputId": "5409c88f-3cc0-424a-da28-4c07a4fabc30"
      },
      "outputs": [
        {
          "output_type": "stream",
          "name": "stdout",
          "text": [
            "Shape of X_train: (784, 60000)\n",
            "Shape of Y_train: (10, 60000)\n",
            "Shape of X_test: (784, 10000)\n",
            "Shape of Y_test: (10, 10000)\n"
          ]
        }
      ],
      "source": [
        "print('Shape of X_train:', X_train.shape)\n",
        "print('Shape of Y_train:', Y_train.shape)\n",
        "print('Shape of X_test:', X_test.shape)\n",
        "print('Shape of Y_test:', Y_test.shape)"
      ]
    },
    {
      "cell_type": "markdown",
      "metadata": {
        "id": "Iec4B6HVt0Pv"
      },
      "source": [
        "### Question: For the training data, X_train has a shape of (784, 60000), while Y_train has a shape of (10, 60000). What do the numbers refer to? What is 784, what is 10 and what is 60000? (<span style=\"color:green\">0.5 points</span>)"
      ]
    },
    {
      "cell_type": "markdown",
      "metadata": {
        "id": "jTkJISQot0Pv"
      },
      "source": [
        "**Answer (TODO):**  \n",
        "\n",
        "**In X_train shape (784, 60000)**,\n",
        "  784 refers to the number of input units for each sample image. In this case, it is the flattened size of each image. Grayscale image is represented as a two dimensional matrix. For many machine learning algorithms, including neural networks, require data to be in a one dimentional vectorized format. If the image is m pixels wide and n pixels tall, the flatten size would be mxn. In this case original images are 28x28 pixels, the flattening results in a vector of length 784 (28 x 28). And 60000 refers to the number of training samples of the dataset.\n",
        "\n",
        "**Y_train shape of (10, 60000)**,\n",
        "  10 refers to the number of classes or categories in the dataset (T-shirt/top, Trouser, Pullover, Dress, Coat, Sandal, Shirt, Sneaker, Bag, Ankle boot). Each sample in the training set is associated with a label indicating its class. Using one-hot encoding each class is represented by a binary vector of length 10, with a 1 at the index corresponding to the class and 0 to other. And 60000 again,represents the number of training samples."
      ]
    },
    {
      "cell_type": "markdown",
      "metadata": {
        "id": "-e0F2ONLt0Pv"
      },
      "source": []
    },
    {
      "cell_type": "markdown",
      "metadata": {
        "id": "kAg8i6pet0Pv"
      },
      "source": [
        "### 2.2 Construct the model and implement the forward propagation (<span style=\"color:green\">5 points</span>)\n",
        "\n",
        "Let's take a look at the model in **Fig. 2** below. This is the model we are gonna use in this assignment.\n",
        "\n"
      ]
    },
    {
      "cell_type": "markdown",
      "metadata": {
        "id": "6_sW_AUQt0Pv"
      },
      "source": [
        "![Figure2.png](http://yty.kapsi.fi/DLcourse/ass1/Figure2.png)"
      ]
    },
    {
      "cell_type": "markdown",
      "metadata": {
        "id": "92p7Fqset0Pv"
      },
      "source": [
        "<center> <strong> <font size=\"4\" color=\"blue\"> Figure 2. Structure of our neural network </font> </strong> </center>"
      ]
    },
    {
      "cell_type": "markdown",
      "metadata": {
        "id": "_ICwmViQt0Pv"
      },
      "source": [
        "### Initialize the model parameters (<span style=\"color:green\">1 points</span>)"
      ]
    },
    {
      "cell_type": "markdown",
      "metadata": {
        "id": "5lHbi8_vt0Pv"
      },
      "source": [
        "As shown in the **Fig. 2**, our neural network contains two hidden layers (we use **9** and **3** neurons as the  first hidden layer and the second hidden layer default setting respectively) and an output layer. To further simplify things, we will not include biases in our model. Be aware that, while the number of neurons in the hidden layer can be arbitrary, there must be 10 neurons in the output layer because we want our model to classify images from 10 classes. Based on the **Fig. 2**, you have to construct your network."
      ]
    },
    {
      "cell_type": "markdown",
      "metadata": {
        "id": "9AxuIwFlt0Pv"
      },
      "source": [
        "Note that to make the computation implementation more friendly, we will define the network parameters with shape **(out_dim, in_dim)**."
      ]
    },
    {
      "cell_type": "code",
      "execution_count": null,
      "metadata": {
        "id": "yTPsX8Q6t0Pv"
      },
      "outputs": [],
      "source": [
        "# Numbers of input units\n",
        "num_inputs = X_train.shape[0] # 784\n",
        "\n",
        "# Number of neural in your hidden layer\n",
        "num_hidden_1 = 9\n",
        "num_hidden_2 = 3\n",
        "\n",
        "# Numbers of output units\n",
        "num_outputs = num_classes"
      ]
    },
    {
      "cell_type": "code",
      "execution_count": null,
      "metadata": {
        "id": "9iiFGruxt0Pv"
      },
      "outputs": [],
      "source": [
        "def init_parameters(num_inputs, num_hidden_1, num_hidden_2, num_outputs):\n",
        "    \"\"\"Method for initialize the model parameters and the learning velocity of momentum for SGD.\n",
        "\n",
        "    Returns:\n",
        "        parameters (tuple): The model parameters: W1, W2, W3\n",
        "        velocity (tuple): The learning velocity of momentum: V_dW1, V_dW2, V_dW3\n",
        "    \"\"\"\n",
        "\n",
        "    # Construct your neural network in Fig. 2\n",
        "    # TODO: Random initialize the hidden_1, hidden_2 and output layer weights (w/o bias) (1 point)\n",
        "    # Hints: use np.random.randn()\n",
        "    W1 = np.random.randn(num_hidden_1, num_inputs) * 0.01\n",
        "    W2 = np.random.randn(num_hidden_2, num_hidden_1) * 0.01\n",
        "    W3 = np.random.randn(num_outputs, num_hidden_2) * 0.01\n",
        "\n",
        "    parameters = W1, W2, W3\n",
        "\n",
        "    # Zeros initialize the momentum for SGD\n",
        "    V_dW1 = np.zeros(W1.shape)\n",
        "    V_dW2 = np.zeros(W2.shape)\n",
        "    V_dW3 = np.zeros(W3.shape)\n",
        "\n",
        "    velocity = V_dW1, V_dW2, V_dW3\n",
        "\n",
        "    return parameters, velocity"
      ]
    },
    {
      "cell_type": "code",
      "execution_count": null,
      "metadata": {
        "colab": {
          "base_uri": "https://localhost:8080/"
        },
        "id": "VTrhH17Xt0Pw",
        "outputId": "ba63b2ba-9696-4dc6-fdc8-37168fc0ca32"
      },
      "outputs": [
        {
          "output_type": "stream",
          "name": "stdout",
          "text": [
            "Shape of W1: (9, 784)\n",
            "Shape of W2: (3, 9)\n",
            "Shape of W3: (10, 3)\n"
          ]
        }
      ],
      "source": [
        "parameters, velocity = init_parameters(num_inputs, num_hidden_1, num_hidden_2, num_outputs)\n",
        "\n",
        "W1, W2, W3 = parameters\n",
        "\n",
        "print('Shape of W1:', W1.shape)\n",
        "print('Shape of W2:', W2.shape)\n",
        "print('Shape of W3:', W3.shape)"
      ]
    },
    {
      "cell_type": "markdown",
      "metadata": {
        "id": "72KMX11Tt0Pw"
      },
      "source": [
        "**<span style=\"color:green\">Reference Results:</span>** <br>\n",
        "Shape of W1: (9, 784)<br>\n",
        "Shape of W2: (3, 9)<br>\n",
        "Shape of W3: (10, 3)<br>"
      ]
    },
    {
      "cell_type": "markdown",
      "metadata": {
        "id": "fvFIUILat0Pw"
      },
      "source": [
        "### Define the activation function (<span style=\"color:green\">3 points</span>)"
      ]
    },
    {
      "cell_type": "markdown",
      "metadata": {
        "id": "vxD2mXrDt0Pw"
      },
      "source": [
        "The sigmoid activation is defined as:\n",
        "\n",
        "$$\n",
        "{\\rm sigmoid}(x) = \\frac{1}{1 + e^{-x}}\n",
        "\\tag{1}\n",
        "$$\n",
        "\n",
        "The ReLU (Rectified Linear Unit) is defined as:\n",
        "\n",
        "$$\n",
        "{\\rm ReLU}(x) = \\text{max}(x, 0) =\n",
        "\\begin{cases}\n",
        "x, & \\text{if}\\ x > 0 \\\\\n",
        "0, & \\text{otherwise}\n",
        "\\end{cases}\n",
        "\\tag{2}\n",
        "$$\n",
        "\n",
        "\n",
        "The softmax activation is defined as:\n",
        "\n",
        "$$\n",
        "{\\rm softmax}(x)_i = \\frac{e^{x_i}}{\\sum_{j=1}^{N}e^{x_j}}\\ \\text{for}\\ i\\ \\text{in}\\ \\left\\{1,...,N \\right\\}\n",
        "\\tag{3}\n",
        "$$\n",
        "\n",
        "where $N$ is the number of classes."
      ]
    },
    {
      "cell_type": "code",
      "execution_count": null,
      "metadata": {
        "id": "JIE53WZxt0Pw"
      },
      "outputs": [],
      "source": [
        "def sigmoid(X):\n",
        "    # TODO: implement Eq. 1 (1 point)\n",
        "    # Hints: use np.exp()\n",
        "    # ref. https://www.geeksforgeeks.org/implement-sigmoid-function-using-numpy/\n",
        "    return (1 / (1 + np.exp(-X)))\n",
        "\n",
        "def relu(X):\n",
        "    # TODO: implement Eq. 2 (1 point)\n",
        "    # Hints: use np.maximum()\n",
        "    # ref. https://www.digitalocean.com/community/tutorials/relu-function-in-python\n",
        "    return np.maximum(0, X)\n",
        "\n",
        "def softmax(X):\n",
        "    # TODO: implement Eq. 3 (1 point)\n",
        "    # Hints: use np.exp() and np.sum(, axis=0) <- beware of the axis\n",
        "    # ref. https://stackoverflow.com/questions/34968722/how-to-implement-the-softmax-function-in-python\n",
        "    return np.exp(X) / np.sum(np.exp(X), axis=0)"
      ]
    },
    {
      "cell_type": "code",
      "execution_count": null,
      "metadata": {
        "colab": {
          "base_uri": "https://localhost:8080/"
        },
        "id": "9Dzc7s4et0Pw",
        "outputId": "e3c8dfa2-0fb0-4829-874b-603287c41f85"
      },
      "outputs": [
        {
          "output_type": "stream",
          "name": "stdout",
          "text": [
            "X\n",
            "[[-1]\n",
            " [ 0]\n",
            " [ 2]] \n",
            "\n",
            "sigmoid(x)\n",
            "[[0.26894142]\n",
            " [0.5       ]\n",
            " [0.88079708]] \n",
            "\n",
            "relu(x)\n",
            "[[0]\n",
            " [0]\n",
            " [2]] \n",
            "\n",
            "softmax(x)\n",
            "[[0.04201007]\n",
            " [0.1141952 ]\n",
            " [0.84379473]]\n"
          ]
        }
      ],
      "source": [
        "X = np.array([-1, 0, 2]).reshape(-1, 1)\n",
        "\n",
        "print('X')\n",
        "print(X, '\\n')\n",
        "\n",
        "print('sigmoid(x)')\n",
        "print(sigmoid(X), '\\n')\n",
        "\n",
        "print('relu(x)')\n",
        "print(relu(X), '\\n')\n",
        "\n",
        "print('softmax(x)')\n",
        "print(softmax(X))"
      ]
    },
    {
      "cell_type": "markdown",
      "metadata": {
        "id": "HDZwy90Zt0Pw"
      },
      "source": [
        "**<span style=\"color:green\">Reference Results:</span>** <br>\n",
        "sigmoid(x)<br>\n",
        "[[0.26894142]<br>\n",
        " [0.5       ]<br>\n",
        " [0.88079708]]<br>\n",
        "\n",
        "relu(x)<br>\n",
        "[[0]<br>\n",
        " [0]<br>\n",
        " [2]]<br>\n",
        "\n",
        "softmax(x)<br>\n",
        "[[0.04201007]<br>\n",
        " [0.1141952 ]<br>\n",
        " [0.84379473]]<br>"
      ]
    },
    {
      "cell_type": "markdown",
      "metadata": {
        "id": "yknbxXU2t0Pw"
      },
      "source": [
        "To get a better understanding of the activation functions sigmoid and ReLU, we can also visualize them as follows:"
      ]
    },
    {
      "cell_type": "code",
      "execution_count": null,
      "metadata": {
        "colab": {
          "base_uri": "https://localhost:8080/",
          "height": 332
        },
        "id": "CGN6wgk6t0P0",
        "outputId": "94ccb3da-df75-483c-d2a4-6611ce4db766"
      },
      "outputs": [
        {
          "output_type": "execute_result",
          "data": {
            "text/plain": [
              "[<matplotlib.lines.Line2D at 0x7b7ff9a71e40>]"
            ]
          },
          "metadata": {},
          "execution_count": 45
        },
        {
          "output_type": "display_data",
          "data": {
            "text/plain": [
              "<Figure size 700x300 with 2 Axes>"
            ],
            "image/png": "[encoded data removed]"
          },
          "metadata": {}
        }
      ],
      "source": [
        "fig, ax = plt.subplots(1, 2, figsize=(7, 3))\n",
        "\n",
        "x = np.linspace(-5, 5, 100).reshape(-1, 1)\n",
        "\n",
        "ax[0].set_title('Sigmoid')\n",
        "ax[0].plot(x, sigmoid(x))\n",
        "\n",
        "ax[1].set_title('ReLU')\n",
        "ax[1].plot(x, relu(x))"
      ]
    },
    {
      "cell_type": "markdown",
      "metadata": {
        "id": "US4v2eNIt0P1"
      },
      "source": [
        "### Construct the forward propagation function (<span style=\"color:green\">1 points</span>)"
      ]
    },
    {
      "cell_type": "markdown",
      "metadata": {
        "id": "sHcjNe7Kt0P1"
      },
      "source": [
        "According to the model in **Fig. 2**, our **forward-propagation** consists of three parts:\n",
        "\n",
        "First, we to start with the calculation of the output volume $A_1$ for the first hidden layer:\n",
        "\n",
        "$$\n",
        "\\begin{align}\n",
        "Z_1 &= W_1 X \\tag{4} \\\\\n",
        "A_1 &= {\\rm sigmoid}(Z_1) \\tag{5}\n",
        "\\end{align}\n",
        "$$\n",
        "\n",
        "where $W_1$ is the weights of the first hidden layer, $X$ is the input, and here we use the **sigmoid** activation.\n",
        "\n",
        "\n",
        "Then, we calculate the hidden volume of the second hidden layer $A_2$ by:\n",
        "\n",
        "$$\n",
        "\\begin{align}\n",
        "Z_2 &= W_2 A_1 \\tag{6} \\\\\n",
        "A_2 &= {\\rm ReLU}(Z_2) \\tag{7}\n",
        "\\end{align}\n",
        "$$\n",
        "\n",
        "where $W_2$ is the weights of the second hidden layer, and here we use the **ReLU** activation.\n",
        "\n",
        "Finally, we calculate the output volume of the output layer $A_3$ by:\n",
        "\n",
        "$$\n",
        "\\begin{align}\n",
        "Z_3 &= W_3 A_2 \\tag{8} \\\\\n",
        "A_3 &= {\\rm softmax}(Z_3) \\tag{9}\n",
        "\\end{align}\n",
        "$$\n",
        "\n",
        "where $W_3$ is the weights of the output layer, and here we use the softmax activation.\n",
        "\n",
        "In this way, we get the final classification predction outputs $A_3$ from the last hidden layer."
      ]
    },
    {
      "cell_type": "code",
      "execution_count": null,
      "metadata": {
        "id": "RFzxVUq6t0P1"
      },
      "outputs": [],
      "source": [
        "def forward_propagation(X, parameters):\n",
        "    \"\"\"Method for forward propagation.\n",
        "    Args:\n",
        "        X (np.array): Input data\n",
        "        parameters (tuple): Parameters in the model: W1, W2, W3\n",
        "\n",
        "    Returns:\n",
        "        outputs (tuple): The forward propagation outputs: Z1, A1, Z2, A2, Z3, A3\n",
        "    \"\"\"\n",
        "\n",
        "    W1, W2, W3 = parameters\n",
        "\n",
        "    # TODO: implement the forward propagation of Fig. 2 based on Eq. 4 - 9 (1 point)\n",
        "    # Hints: use np.matmul() to implement matrix multiplication\n",
        "    Z1 = np.matmul(W1, X)\n",
        "    A1 = sigmoid(Z1)\n",
        "    Z2 = np.matmul(W2, A1)\n",
        "    A2 = relu(Z2)\n",
        "    Z3 = np.matmul(W3, A2)\n",
        "    A3 = softmax(Z3)\n",
        "\n",
        "    outputs = Z1, A1, Z2, A2, Z3, A3\n",
        "    return outputs"
      ]
    },
    {
      "cell_type": "code",
      "execution_count": null,
      "metadata": {
        "colab": {
          "base_uri": "https://localhost:8080/"
        },
        "id": "7vwNepsGt0P1",
        "outputId": "94f588d3-766a-4d57-e3b8-9851cfa45392"
      },
      "outputs": [
        {
          "output_type": "stream",
          "name": "stdout",
          "text": [
            "Shape of X: (784, 2)\n",
            "Shape of Z1: (9, 2)\n",
            "Shape of A1: (9, 2)\n",
            "Shape of Z2: (3, 2)\n",
            "Shape of A2: (3, 2)\n",
            "Shape of Z3: (10, 2)\n",
            "Shape of A3: (10, 2)\n",
            "\n",
            "Example results of A3:\n",
            "[[0.09998811 0.09998596]\n",
            " [0.09997739 0.09997741]\n",
            " [0.10005178 0.1000593 ]\n",
            " [0.10001699 0.10002253]\n",
            " [0.10001875 0.10001641]\n",
            " [0.0999888  0.09998618]\n",
            " [0.10001694 0.10001505]\n",
            " [0.09998865 0.09999122]\n",
            " [0.10001964 0.10001955]\n",
            " [0.09993294 0.0999264 ]]\n"
          ]
        }
      ],
      "source": [
        "np.random.seed(1)\n",
        "X = np.random.randn(num_inputs, 2)\n",
        "\n",
        "parameters, _ = init_parameters(num_inputs, num_hidden_1, num_hidden_2, num_outputs)\n",
        "Z1, A1, Z2, A2, Z3, A3 = forward_propagation(X, parameters)\n",
        "\n",
        "print('Shape of X:', X.shape)\n",
        "print('Shape of Z1:', Z1.shape)\n",
        "print('Shape of A1:', A1.shape)\n",
        "print('Shape of Z2:', Z2.shape)\n",
        "print('Shape of A2:', A2.shape)\n",
        "print('Shape of Z3:', Z3.shape)\n",
        "print('Shape of A3:', A3.shape)\n",
        "\n",
        "print('\\nExample results of A3:')\n",
        "print(A3)"
      ]
    },
    {
      "cell_type": "markdown",
      "metadata": {
        "id": "Ftejapdmt0P1"
      },
      "source": [
        "**<span style=\"color:green\">Reference Results:</span>** <br>\n",
        "Shape of X: (784, 2)<br>\n",
        "Shape of Z1: (9, 2)<br>\n",
        "Shape of A1: (9, 2)<br>\n",
        "Shape of Z2: (3, 2)<br>\n",
        "Shape of A2: (3, 2)<br>\n",
        "Shape of Z3: (10, 2)<br>\n",
        "Shape of A3: (10, 2)<br>\n",
        "\n",
        "Example results of A3:<br>\n",
        "[[2.46725014e-03 9.30825544e-07]<br>\n",
        " [3.31005452e-04 6.34655955e-07]<br>\n",
        " [5.99451371e-01 9.95638430e-01]<br>\n",
        " [9.09817956e-03 4.04817220e-03]<br>\n",
        " [1.65653873e-01 4.63410273e-05]<br>\n",
        " [3.01971551e-03 8.33547818e-07]<br>\n",
        " [1.36952654e-01 3.46917061e-05]<br>\n",
        " [6.84035576e-04 1.15346167e-05]<br>\n",
        " [8.23364875e-02 2.18431338e-04]<br>\n",
        " [5.42874551e-06 6.05182642e-11]]<br>"
      ]
    },
    {
      "cell_type": "markdown",
      "metadata": {
        "id": "O91KsYgGt0P1"
      },
      "source": [
        "### 2.3 Loss function computation and backward propagation (<span style=\"color:green\">4 points</span>)"
      ]
    },
    {
      "cell_type": "markdown",
      "metadata": {
        "id": "6IjlLMWpt0P1"
      },
      "source": [
        "### Implement the loss function (<span style=\"color:green\">1 points</span>)"
      ]
    },
    {
      "cell_type": "markdown",
      "metadata": {
        "id": "NJ240g75t0P1"
      },
      "source": [
        "Here we calculate the cross entropy loss function by:\n",
        "\n",
        "$$\n",
        "L = {\\rm cross\\_entropy}(Y, A_3) = - \\frac{1}{M} \\sum_{k=0}^{M} \\sum_{i=0}^{N} Y_i^{k} log({A_3}_i^{k}) \\tag{10}\n",
        "$$\n",
        "\n",
        "where $Y$ is the ground truth labels, $A_3$ is the prediction outputs, $N$ is the number of classes, $M$ is the number of samples in the training batch."
      ]
    },
    {
      "cell_type": "code",
      "execution_count": null,
      "metadata": {
        "id": "pilg3XJot0P2"
      },
      "outputs": [],
      "source": [
        "def cross_entropy_loss(Y, Y_pred):\n",
        "    # TODO: implement Eq. 10 (1 point)\n",
        "    # Hints: use np.sum(), np.multiply() and np.log()\n",
        "    # At the end, we need to divide by the number of of sample in the training batch e.g. m = Y.shape[1]\n",
        "    #ref.\n",
        "    m = Y.shape[1]  # Number of samples in the training batch\n",
        "    return -np.sum(np.multiply(Y, np.log(Y_pred)))/ m"
      ]
    },
    {
      "cell_type": "code",
      "execution_count": null,
      "metadata": {
        "colab": {
          "base_uri": "https://localhost:8080/"
        },
        "id": "mf6GF02Ut0P2",
        "outputId": "3b9d1519-1bcd-45f8-f85b-b2667a212b53"
      },
      "outputs": [
        {
          "output_type": "stream",
          "name": "stdout",
          "text": [
            "Shape of Y: (10, 2)\n",
            "Shape of A3: (10, 2)\n",
            "Loss: 1.4200061694735258\n"
          ]
        }
      ],
      "source": [
        "np.random.seed(1)\n",
        "Y = one_hot_vector(np.random.randint(1, num_classes, 2), num_classes)\n",
        "A3 = softmax(np.random.randn(num_classes, 2))\n",
        "\n",
        "L = cross_entropy_loss(Y, A3)\n",
        "print('Shape of Y:', Y.shape)\n",
        "print('Shape of A3:', A3.shape)\n",
        "print('Loss:', L)"
      ]
    },
    {
      "cell_type": "markdown",
      "metadata": {
        "id": "sN9h9xV4t0P2"
      },
      "source": [
        "**<span style=\"color:green\">Reference Results:</span>** <br>\n",
        "Shape of Y: (10, 2)<br>\n",
        "Shape of A3: (10, 2)<br>\n",
        "Loss: 1.4200061694735258<br>"
      ]
    },
    {
      "cell_type": "markdown",
      "metadata": {
        "id": "Tdi9BFVbt0P2"
      },
      "source": [
        "### Implement the backward propagation (<span style=\"color:green\">3 points</span>)"
      ]
    },
    {
      "cell_type": "markdown",
      "metadata": {
        "id": "69u7_eont0P2"
      },
      "source": [
        "Using what you learnt in undergraduate school, let's calculate the **backward-propagation** for our model in **Fig. 2**. <br>"
      ]
    },
    {
      "cell_type": "markdown",
      "metadata": {
        "id": "bpSGaEJJt0P2"
      },
      "source": [
        "As mentioned earlier, we are interested in $\\frac{\\partial L}{\\partial W_1}$, $\\frac{\\partial L}{\\partial W_2}$ and $\\frac{\\partial L}{\\partial W_3}$, where:\n",
        "\n",
        "$$\n",
        "\\frac{\\partial L}{\\partial W_3} = \\frac{\\partial L}{\\partial A_3} \\cdot \\frac{\\partial A_3}{\\partial Z_3} \\cdot \\frac{\\partial Z_3}{\\partial W_3} \\tag{11}\n",
        "$$\n",
        "\n",
        ",\n",
        "\n",
        "$$\n",
        "\\frac{\\partial L}{\\partial W_2} = \\frac{\\partial L}{\\partial A_3} \\cdot \\frac{\\partial A_3}{\\partial Z_3} \\cdot \\frac{\\partial Z_3}{\\partial A_2} \\cdot \\frac{\\partial A_2}{\\partial Z_2} \\cdot \\frac{\\partial Z_2}{\\partial W_2} \\tag{12}\n",
        "$$\n",
        "\n",
        "and,\n",
        "\n",
        "$$\n",
        "\\frac{\\partial L}{\\partial W_1} = \\frac{\\partial L}{\\partial A_3} \\cdot \\frac{\\partial A_3}{\\partial Z_3} \\cdot \\frac{\\partial Z_3}{\\partial A_2} \\cdot \\frac{\\partial A_2}{\\partial Z_2} \\cdot \\frac{\\partial Z_2} {\\partial A_1} \\cdot \\frac{\\partial A_1}{\\partial Z_1} \\cdot \\frac{\\partial Z_1}{\\partial W_1} \\tag{13}\n",
        "$$"
      ]
    },
    {
      "cell_type": "markdown",
      "metadata": {
        "id": "QSAECohdt0P2"
      },
      "source": [
        "From **Eq. 11** we have:\n",
        "\n",
        "The derivative of $L$ with respect to $Z_3$:\n",
        "\n",
        "$$\n",
        "dZ_3 = \\frac{\\partial L}{\\partial Z_3} = \\frac{\\partial L}{\\partial A_3} \\cdot \\frac{\\partial A_3}{\\partial Z_3} = A_3 - Y \\tag{14}\n",
        "$$\n",
        "\n",
        "<br>\n",
        "\n",
        "The derivative of $L$ with respect to $W_3$:\n",
        "\n",
        "$$\n",
        "d W_3 = \\frac{\\partial L}{\\partial W_3} = \\frac{\\partial L}{\\partial Z_3} \\cdot \\frac{\\partial Z_3}{\\partial W_3} = \\frac{1}{m} d Z_3 \\cdot A_2^T \\tag{15}\n",
        "$$\n",
        "\n",
        "Here $m$ is the number of data samples in a mini batch.\n",
        "\n",
        "<br>\n"
      ]
    },
    {
      "cell_type": "markdown",
      "metadata": {
        "id": "GXuNCw3nt0P2"
      },
      "source": [
        "From **Eq. 12** we have:\n",
        "\n",
        "The derivative of $L$ with respect to $A_2$:\n",
        "$$\n",
        "d A_2 = \\frac{\\partial L}{\\partial A_2} = \\frac{\\partial L}{\\partial Z_3} \\cdot \\frac{\\partial Z_3}{\\partial A_2} = W_3^T \\cdot (A_3 - Y) \\tag{16}\n",
        "$$\n",
        "\n",
        "The derivative of $L$ with respect to $Z_2$:\n",
        "$$\n",
        "\\frac{\\partial A_2}{\\partial Z_2} = {\\rm int}(A2 > 0) \\tag{17}\n",
        "$$\n",
        "\n",
        "$$\n",
        "d Z_2 = \\frac{\\partial L}{\\partial Z_2} = \\frac{\\partial L}{\\partial A_2} \\cdot \\frac{\\partial A_2}{\\partial Z_2} = d A_2 * {\\rm int}(A2 > 0) \\tag{18}\n",
        "$$\n",
        "\n",
        "The derivative of $L$ with respect to $W_2$:\n",
        "$$\n",
        "d W_2 = \\frac{\\partial L}{\\partial W_2} = \\frac{\\partial L}{\\partial Z_2} \\cdot \\frac{\\partial Z_2}{\\partial W_2} = \\frac{1}{m} d Z_2 \\cdot A_1^T \\tag{19}\n",
        "$$\n",
        "\n",
        "<br>\n"
      ]
    },
    {
      "cell_type": "markdown",
      "metadata": {
        "id": "IH79Pz8Ct0P2"
      },
      "source": [
        "From **Eq. 13** we have:\n",
        "\n",
        "The derivative of $L$ with respect to $A_1$:\n",
        "$$\n",
        "d A_1 = \\frac{\\partial L}{\\partial A_1} = \\frac{\\partial L}{\\partial Z_2} \\cdot \\frac{\\partial Z_2}{\\partial A_1} = W_2^T \\cdot d Z_2\\tag{20}\n",
        "$$\n",
        "\n",
        "The derivative of $L$ with respect to $Z_1$:\n",
        "$$\n",
        "\\frac{\\partial A_1}{\\partial Z_1} = A1 * (1 - A1) \\tag{21}\n",
        "$$\n",
        "\n",
        "$$\n",
        "d Z_1 = \\frac{\\partial L}{\\partial Z_1} = \\frac{\\partial L}{\\partial A_1} \\cdot \\frac{\\partial A_1}{\\partial Z_1} = d A_1 * A1 * (1 - A1) \\tag{22}\n",
        "$$\n",
        "\n",
        "The derivative of $L$ with respect to $W_1$:\n",
        "$$\n",
        "d W_1 = \\frac{\\partial L}{\\partial W_1} = \\frac{\\partial L}{\\partial Z_1} \\cdot \\frac{\\partial Z_1}{\\partial W_1} = \\frac{1}{m} d Z_1 \\cdot X^T \\tag{23}\n",
        "$$\n",
        "\n",
        "<br>\n"
      ]
    },
    {
      "cell_type": "markdown",
      "metadata": {
        "id": "F9vPqSK9t0P2"
      },
      "source": [
        "**Hints**\n",
        "\n",
        "For the above equations:\n",
        "- $A \\cdot B$ denotes the matrix multiplication between matrix $A$ and $B$, it can be implementated by using `np.matmul(A, B)`.\n",
        "- $A * B$ denotes the [Hadamard product](https://en.wikipedia.org/wiki/Hadamard_product_(matrices)) (element-wise product) between $A$ and $B$, which can be implemented by using `np.multiply(A, B)` or `A * B`.\n",
        "- $A^T$ denotes the [Transpose](https://en.wikipedia.org/wiki/Transpose) of matrix $A$, which can be implemented by using `A.T`\n",
        "- ${\\rm int}(A)$ denotes an operation that converts a matrix of type boolean to type integer, which can be implemented by using `A.astype(int)`.\n",
        "- $m$ is the number of data samples in a mini batch."
      ]
    },
    {
      "cell_type": "code",
      "execution_count": null,
      "metadata": {
        "id": "87Zb9c3vt0P3"
      },
      "outputs": [],
      "source": [
        "def backward_propagation(X, Y, parameters, outputs):\n",
        "    \"\"\"Method for forward propagation.\n",
        "    Args:\n",
        "        X (np.array): Input data\n",
        "        Y (np.array): Ground truth of input data\n",
        "        parameters (tuple): Parameters in the model: W1, W2, W3\n",
        "        outputs (tuple): The forward propagation outputs: Z1, A1, Z2, A2, Z3, A3\n",
        "\n",
        "    Returns:\n",
        "        tuple: The computed gradients: dW1, dW2, dW3\n",
        "    \"\"\"\n",
        "\n",
        "    m = X.shape[1] # The number of data samples in a mini batch\n",
        "\n",
        "    W1, W2, W3 = parameters\n",
        "    Z1, A1, Z2, A2, Z3, A3 = outputs\n",
        "\n",
        "    # TODO: calculate the derivative of L with respect to Z3 and W3 using Eq. 14 - 15 (1 point)\n",
        "    dZ3 = A3 - Y\n",
        "    dW3 = (1/m) * np.matmul(dZ3, A2.T)\n",
        "\n",
        "    # TODO: calculate the derivative of L with respect to A2, Z2 and W2 using Eq. 16 - 19 (1 point)\n",
        "    dA2 = np.matmul(W3.T, dZ3)\n",
        "    dZ2 = np.multiply(dA2, np.int64(A2 > 0))\n",
        "    dW2 = (1/m) * np.matmul(dZ2, A1.T)\n",
        "\n",
        "    # TODO: calculate the derivative of L with respect to A1, Z1 and W1 using Eq. 20 - 23 (1 point)\n",
        "    dA1 = np.matmul(W2.T, dZ2)\n",
        "    dZ1 = np.multiply(dA1, A1 * (1 - A1))\n",
        "    dW1 = (1/m) * np.matmul(dZ1, X.T)\n",
        "\n",
        "    return dW1, dW2, dW3"
      ]
    },
    {
      "cell_type": "code",
      "execution_count": null,
      "metadata": {
        "id": "gw-iEcaBt0P3",
        "outputId": "83b78d9a-b821-412d-d7ae-f9da8d866183",
        "colab": {
          "base_uri": "https://localhost:8080/"
        }
      },
      "outputs": [
        {
          "output_type": "stream",
          "name": "stdout",
          "text": [
            "Shape of dW3: (10, 3)\n",
            "Shape of dW2: (3, 9)\n",
            "Shape of dW1: (9, 784)\n",
            "\n",
            "Example results in dW3:\n",
            "[-0.14242696 -0.14242845 -0.14242704 -0.14242888 -0.14242678 -0.14243038\n",
            " -0.14242907 -0.14242951 -0.14242722 -0.1424283 ]\n",
            "\n",
            "Example results in dW2:\n",
            "[ 0.10792294 -0.06470121  0.05423431]\n",
            "\n",
            "Example results in dW1:\n",
            "[ 3.91849913e-04 -1.45886957e-04  1.60745069e-04  1.04073832e-04\n",
            "  1.70057106e-04 -1.25081718e-04  8.98056128e-05  3.06215352e-04\n",
            "  1.72351710e-04]\n"
          ]
        }
      ],
      "source": [
        "np.random.seed(1)\n",
        "X = np.random.randn(num_inputs, 2)\n",
        "Y = np.random.randint(1, num_classes, (2, ))\n",
        "\n",
        "parameters, _ = init_parameters(num_inputs, num_hidden_1, num_hidden_2, num_outputs)\n",
        "outputs = forward_propagation(X, parameters)\n",
        "dW1, dW2, dW3 = backward_propagation(X, Y, parameters, outputs)\n",
        "\n",
        "print('Shape of dW3:', dW3.shape)\n",
        "print('Shape of dW2:', dW2.shape)\n",
        "print('Shape of dW1:', dW1.shape)\n",
        "\n",
        "print('\\nExample results in dW3:')\n",
        "print(dW3[:, 0])\n",
        "\n",
        "print('\\nExample results in dW2:')\n",
        "print(dW2[:, 0])\n",
        "\n",
        "print('\\nExample results in dW1:')\n",
        "print(dW1[:, 0])"
      ]
    },
    {
      "cell_type": "markdown",
      "metadata": {
        "id": "uAM1hqw1t0P3"
      },
      "source": [
        "**<span style=\"color:green\">Reference Results:</span>** <br>\n",
        "Shape of dW3: (10, 3)<br>\n",
        "Shape of dW2: (3, 9)<br>\n",
        "Shape of dW1: (9, 784)<br>\n",
        "\n",
        "Example results in dW3:<br>\n",
        "[-11.07686748 -11.18325156 -11.07948311 -11.15090766  -9.30689316<br>\n",
        " -11.18940487 -11.18383374 -11.18882248 -10.89794772 -11.14887099]<br>\n",
        "\n",
        "Example results in dW2:<br>\n",
        "[ 9.68479859 -5.5846308   4.69322188]<br>\n",
        "\n",
        "Example results in dW1:<br>\n",
        "[ 1.41874064e-02 -6.39869875e-01  2.22768707e-09 -8.80866594e-07<br>\n",
        "  2.06468965e-07  6.32945305e-06 -4.88517422e-10  7.55225226e-11<br>\n",
        "  4.40379402e-03]<br>"
      ]
    },
    {
      "cell_type": "markdown",
      "metadata": {
        "id": "EqYxfEGDt0P3"
      },
      "source": [
        "### Extended Reading: Gradient check using finite-difference approximation.\n",
        "\n",
        "When training deep neural network, there are many things that can go wrong. Until this point, you probably notice that we have been going on and on about the gradient. Why? Because the gradient is very important. Hence, you must make sure that the calculation of your gradient is correct. A correct gradient calculation won't promise your model will converge, but if the calculation was wrong your model will perform very weird. This type of error is hard to debug, so we better prevent it beforehand. <br>\n",
        "To perform the gradient check, we can calculate gradient using the [finite-difference approximation](https://en.wikipedia.org/wiki/Finite_difference) (FDA), and let's call the output of FDA numerical gradients. Then we compare the numerical gradients with the gradient we calculate from taking the derivative. If the differences between them are small enough, we can assume that the gradient was calculated correctly. <br>\n",
        "\n",
        "You probably learned about FDA in your undergraduate, but to refresh your mind, let's have a simple example to see how FDA works. Assume that we have a function $f(x)$ which <br>\n",
        "\n",
        "\\begin{align}\n",
        "f(x) = \\frac{1}{3} x^3 - \\frac{1}{2} x^2 + 1 \\tag{24}\n",
        "\\end{align}\n",
        "\n",
        "Then, the derivative $\\Delta f$ will be: <br>\n",
        "\\begin{align}\n",
        "\\Delta f = x^2 - x \\tag{25}\n",
        "\\end{align}\n",
        "\n",
        "At $x=2.125$, using **Eq. 25** we have $\\Delta f = 2.390625$\n",
        "\n",
        "If we calculate the numerical gradient using FDA we have:\n",
        "\\begin{align}\n",
        "\\Delta_{num\\_grad} f = \\frac{f(x + \\epsilon) - f(x - \\epsilon)}{2 * \\epsilon}  \\tag{26}\n",
        "\\end{align}\n",
        "\n",
        "where $\\epsilon$ is a very small value (E.g. $\\epsilon = 1e-{04}$)\n",
        "\n",
        "At the same point $x=2.125$, using **Eq. 20** we have $\\Delta_{num\\_grad} f = 2.3906250033389753$ <br>\n",
        "\n",
        "We can see that, the calculated values of $\\Delta f$ and $\\Delta_{num\\_grad} f$ are very close to each other. <br>\n",
        "\n",
        "With the same idea, we can check the gradient calculation of our network using FDA. A simple way to do this is: <br>\n",
        "1) We wiggle (by a very small $\\epsilon$ values) the value of our weight for all of the parameters in our model. By all parameters, I mean all of the weights of $W_1$, $W_2$ and $W_3$. E.g. if we use 7 neurons in the first hidden layer and 3 neurons in the second hidden layer, the number of parameters in our network is : <br>\n",
        "$num\\_params(net) = num\\_params(W_1) + num\\_params(W_2) + num\\_params(W_3) = 28*28*7 + 7*7*3 + 3*10 = 5665$ <br>\n",
        "so we have to repeat the \"wiggling\" and calculate the numerical gradient 5665 times. At the end, we have a $num\\_grad$ vector that have shape (5665,) <br>\n",
        "2) Calculate the gradient by taking the derivative. Similarly, we will have a $grad$ vector that also have shape (5665,) <br>\n",
        "3) Compare $num\\_grad$ and $grad$ vectors by: <br>\n",
        "\\begin{align}\n",
        "grad\\_diff = \\frac{||grad - num\\_grad||_2}{|grad + num\\_grad|_2}  \\tag{27}\n",
        "\\end{align}\n",
        "\n",
        "If **grad_diff** is smaller than $1e-{08}$ than we assume that our gradient calculation is correct."
      ]
    },
    {
      "cell_type": "markdown",
      "metadata": {
        "id": "FGc5dSZRt0P3"
      },
      "source": [
        "## Part 3. Training and Evaluation of Neural Network (<span style=\"color:green\">2.5 points</span>)"
      ]
    },
    {
      "cell_type": "markdown",
      "metadata": {
        "id": "SUpBx9zdt0P3"
      },
      "source": [
        "### 3.1 Training your network (<span style=\"color:green\">2 points</span>)\n",
        "\n",
        "In this assignment, we will train our model using mini-batch stochastic gradient descent with momentum. To know more about this optimization algorithm, please check out this great [video](https://www.youtube.com/watch?v=k8fTYJPd3_I) from Dr. Andrew Ng. <br>\n",
        "\n",
        "$$\n",
        "v_{dW} = \\beta v_{dW} + (1 - \\beta) dW \\tag{28}\n",
        "$$\n",
        "\n",
        "$$\n",
        "W = W - \\alpha v_{dW} \\tag{29}\n",
        "$$\n",
        "\n",
        "Here $\\alpha$ is the learning rate, and $\\beta$ is used to update the learning velocity."
      ]
    },
    {
      "cell_type": "code",
      "execution_count": null,
      "metadata": {
        "id": "SfACUODVt0P3"
      },
      "outputs": [],
      "source": [
        "def training_step(X, Y, parameters, velocity, learning_rate, beta, weight_decay_lambda=0.):\n",
        "    \"\"\"Method for each training step.\n",
        "    Args:\n",
        "        X (np.array): Input data\n",
        "        Y (np.array): Ground truth of input data\n",
        "        parameters (tuple): Parameters in the model: W1, W2, W3\n",
        "        velocity (tuple): The learning velocity of momentum: V_dW1, V_dW2, V_dW3\n",
        "        learning_rate (float): The learning rate for training\n",
        "        beta (float): The coefficient to update the learning velocity\n",
        "        weight_decay_lambda (float): The coefficient of weight decay\n",
        "\n",
        "    Returns:\n",
        "        tuple: loss, the updated parameters, the updated velocity\n",
        "    \"\"\"\n",
        "\n",
        "    W1, W2, W3 = parameters\n",
        "\n",
        "    # The forward propagation\n",
        "    outputs = forward_propagation(X, parameters)\n",
        "    A3 = outputs[-1]\n",
        "\n",
        "    # Loss computation and backward propagation\n",
        "    if weight_decay_lambda == 0.:\n",
        "        loss = cross_entropy_loss(Y, A3)\n",
        "        dW1, dW2, dW3 = backward_propagation(X, Y, parameters, outputs)\n",
        "    else:\n",
        "        loss = cross_entropy_loss(Y, A3) + weight_decay_loss(parameters, weight_decay_lambda)\n",
        "        dW1, dW2, dW3 = backward_propagation_with_weight_decay(X, Y, parameters, outputs, weight_decay_lambda)\n",
        "\n",
        "    V_dW1, V_dW2, V_dW3 = velocity\n",
        "\n",
        "    # Updating model parameters\n",
        "    # TODO: Update the learning velocity using Eq. 28 (1 point)\n",
        "    V_dW1 = beta * V_dW1 + (1 - beta) * dW1\n",
        "    V_dW2 = beta * V_dW2 + (1 - beta) * dW2\n",
        "    V_dW3 = beta * V_dW3 + (1 - beta) * dW3\n",
        "\n",
        "    # TODO: Update the model weights using Eq. 29 (1 point)\n",
        "    W1 = W1 - learning_rate * V_dW1\n",
        "    W2 = W2 - learning_rate * V_dW2\n",
        "    W3 = W3 - learning_rate * V_dW3\n",
        "\n",
        "    parameters = W1, W2, W3\n",
        "    velocity = V_dW1, V_dW2, V_dW3\n",
        "\n",
        "    return loss, parameters, velocity"
      ]
    },
    {
      "cell_type": "code",
      "execution_count": null,
      "metadata": {
        "scrolled": true,
        "id": "OMjE2mYUt0P3"
      },
      "outputs": [],
      "source": [
        "def training_model(parameters, velocity, batch_size, epoch, learning_rate, beta, weight_decay_lambda=0.):\n",
        "\n",
        "    # Calculate the number of training iterations base on the number of training samples and your batch size\n",
        "    num_batchs = num_trains // batch_size\n",
        "    print('Start training the model:')\n",
        "    print('Number of training samples: {}'.format(num_trains))\n",
        "    print('Number of batchs: {}'.format(num_batchs))\n",
        "\n",
        "    loss_log = [] # Log the training loss\n",
        "\n",
        "    # Training\n",
        "    for i in range(epoch):\n",
        "        start_t = time.time()\n",
        "\n",
        "        indices = np.random.permutation(num_trains)\n",
        "        X_train_shuffled, Y_train_shuffled = X_train[:, indices], Y_train[:, indices]\n",
        "\n",
        "        for j in range(num_batchs):\n",
        "\n",
        "            # Get mini-batch samples for training\n",
        "            start_idx, end_idx = j * batch_size, min(j * batch_size + batch_size, X_train.shape[1] - 1)\n",
        "            X, Y = X_train_shuffled[:, start_idx : end_idx], Y_train_shuffled[:, start_idx : end_idx]\n",
        "\n",
        "            # Call training_step()\n",
        "            loss, parameters, velocity = training_step(X, Y, parameters, velocity, learning_rate, beta, weight_decay_lambda)\n",
        "\n",
        "            loss_log.append(loss)\n",
        "            if (j > 0 and j % 200 == 0):\n",
        "                print(\"[Epoch][Iterations]:[{}/{}][{}/{}], loss: {}\".format(i, epoch, j, num_batchs, loss))\n",
        "\n",
        "        print(\"=> Epoch {}, elapsed time: {:.2f} seconds\".format(i, time.time() - start_t))\n",
        "\n",
        "    plt.title('Training loss:')\n",
        "    plt.plot(loss_log)\n",
        "    plt.show()\n",
        "\n",
        "    return parameters"
      ]
    },
    {
      "cell_type": "code",
      "execution_count": null,
      "metadata": {
        "scrolled": false,
        "id": "ryR-fMl4t0P4",
        "outputId": "270f54a1-0774-462a-8822-a521a25dcd6f",
        "colab": {
          "base_uri": "https://localhost:8080/",
          "height": 1000
        }
      },
      "outputs": [
        {
          "output_type": "stream",
          "name": "stdout",
          "text": [
            "Start training the model:\n",
            "Number of training samples: 60000\n",
            "Number of batchs: 468\n",
            "[Epoch][Iterations]:[0/30][200/468], loss: 2.3025677670543265\n",
            "[Epoch][Iterations]:[0/30][400/468], loss: 2.302445987111316\n",
            "=> Epoch 0, elapsed time: 0.59 seconds\n",
            "[Epoch][Iterations]:[1/30][200/468], loss: 1.7142719800216382\n",
            "[Epoch][Iterations]:[1/30][400/468], loss: 1.104474444048368\n",
            "=> Epoch 1, elapsed time: 0.66 seconds\n",
            "[Epoch][Iterations]:[2/30][200/468], loss: 0.9891184540466013\n",
            "[Epoch][Iterations]:[2/30][400/468], loss: 0.8589211772882026\n",
            "=> Epoch 2, elapsed time: 0.60 seconds\n",
            "[Epoch][Iterations]:[3/30][200/468], loss: 0.8106250525874701\n",
            "[Epoch][Iterations]:[3/30][400/468], loss: 0.7604713880428193\n",
            "=> Epoch 3, elapsed time: 0.63 seconds\n",
            "[Epoch][Iterations]:[4/30][200/468], loss: 0.7856522324011994\n",
            "[Epoch][Iterations]:[4/30][400/468], loss: 0.6697462564933476\n",
            "=> Epoch 4, elapsed time: 0.63 seconds\n",
            "[Epoch][Iterations]:[5/30][200/468], loss: 0.5137240831679444\n",
            "[Epoch][Iterations]:[5/30][400/468], loss: 0.6793665824119443\n",
            "=> Epoch 5, elapsed time: 0.62 seconds\n",
            "[Epoch][Iterations]:[6/30][200/468], loss: 0.7032740433624154\n",
            "[Epoch][Iterations]:[6/30][400/468], loss: 0.6146567367846353\n",
            "=> Epoch 6, elapsed time: 0.65 seconds\n",
            "[Epoch][Iterations]:[7/30][200/468], loss: 0.587547000766696\n",
            "[Epoch][Iterations]:[7/30][400/468], loss: 0.5215185223478833\n",
            "=> Epoch 7, elapsed time: 0.60 seconds\n",
            "[Epoch][Iterations]:[8/30][200/468], loss: 0.6575722615107945\n",
            "[Epoch][Iterations]:[8/30][400/468], loss: 0.4326656056036072\n",
            "=> Epoch 8, elapsed time: 0.61 seconds\n",
            "[Epoch][Iterations]:[9/30][200/468], loss: 0.4640729185898036\n",
            "[Epoch][Iterations]:[9/30][400/468], loss: 0.3825368224442209\n",
            "=> Epoch 9, elapsed time: 0.65 seconds\n",
            "[Epoch][Iterations]:[10/30][200/468], loss: 0.5392453553598886\n",
            "[Epoch][Iterations]:[10/30][400/468], loss: 0.5243276993837624\n",
            "=> Epoch 10, elapsed time: 0.60 seconds\n",
            "[Epoch][Iterations]:[11/30][200/468], loss: 0.4527442937044669\n",
            "[Epoch][Iterations]:[11/30][400/468], loss: 0.4598154815443851\n",
            "=> Epoch 11, elapsed time: 0.63 seconds\n",
            "[Epoch][Iterations]:[12/30][200/468], loss: 0.4359806270133123\n",
            "[Epoch][Iterations]:[12/30][400/468], loss: 0.44211792474687334\n",
            "=> Epoch 12, elapsed time: 0.62 seconds\n",
            "[Epoch][Iterations]:[13/30][200/468], loss: 0.5056791457786562\n",
            "[Epoch][Iterations]:[13/30][400/468], loss: 0.37723827416436784\n",
            "=> Epoch 13, elapsed time: 1.21 seconds\n",
            "[Epoch][Iterations]:[14/30][200/468], loss: 0.5577431858453785\n",
            "[Epoch][Iterations]:[14/30][400/468], loss: 0.5085102540637843\n",
            "=> Epoch 14, elapsed time: 1.39 seconds\n",
            "[Epoch][Iterations]:[15/30][200/468], loss: 0.4340966966556746\n",
            "[Epoch][Iterations]:[15/30][400/468], loss: 0.5123040035741139\n",
            "=> Epoch 15, elapsed time: 1.21 seconds\n",
            "[Epoch][Iterations]:[16/30][200/468], loss: 0.5177941877454206\n",
            "[Epoch][Iterations]:[16/30][400/468], loss: 0.6352614770592614\n",
            "=> Epoch 16, elapsed time: 1.48 seconds\n",
            "[Epoch][Iterations]:[17/30][200/468], loss: 0.528284482718987\n",
            "[Epoch][Iterations]:[17/30][400/468], loss: 0.581146114436925\n",
            "=> Epoch 17, elapsed time: 0.62 seconds\n",
            "[Epoch][Iterations]:[18/30][200/468], loss: 0.40327667870631123\n",
            "[Epoch][Iterations]:[18/30][400/468], loss: 0.6649700665565514\n",
            "=> Epoch 18, elapsed time: 0.62 seconds\n",
            "[Epoch][Iterations]:[19/30][200/468], loss: 0.4028713929656199\n",
            "[Epoch][Iterations]:[19/30][400/468], loss: 0.463380449937128\n",
            "=> Epoch 19, elapsed time: 0.59 seconds\n",
            "[Epoch][Iterations]:[20/30][200/468], loss: 0.5173504124307184\n",
            "[Epoch][Iterations]:[20/30][400/468], loss: 0.44073229061887076\n",
            "=> Epoch 20, elapsed time: 0.62 seconds\n",
            "[Epoch][Iterations]:[21/30][200/468], loss: 0.34929852716028775\n",
            "[Epoch][Iterations]:[21/30][400/468], loss: 0.5212751151089352\n",
            "=> Epoch 21, elapsed time: 0.62 seconds\n",
            "[Epoch][Iterations]:[22/30][200/468], loss: 0.30857464214413477\n",
            "[Epoch][Iterations]:[22/30][400/468], loss: 0.5653933243266445\n",
            "=> Epoch 22, elapsed time: 0.62 seconds\n",
            "[Epoch][Iterations]:[23/30][200/468], loss: 0.39635876557764677\n",
            "[Epoch][Iterations]:[23/30][400/468], loss: 0.5919180366737431\n",
            "=> Epoch 23, elapsed time: 0.64 seconds\n",
            "[Epoch][Iterations]:[24/30][200/468], loss: 0.5196560731765932\n",
            "[Epoch][Iterations]:[24/30][400/468], loss: 0.6830458863704639\n",
            "=> Epoch 24, elapsed time: 0.60 seconds\n",
            "[Epoch][Iterations]:[25/30][200/468], loss: 0.47182466210222307\n",
            "[Epoch][Iterations]:[25/30][400/468], loss: 0.4493820356327759\n",
            "=> Epoch 25, elapsed time: 0.65 seconds\n",
            "[Epoch][Iterations]:[26/30][200/468], loss: 0.48472013269778474\n",
            "[Epoch][Iterations]:[26/30][400/468], loss: 0.5020632848249805\n",
            "=> Epoch 26, elapsed time: 0.59 seconds\n",
            "[Epoch][Iterations]:[27/30][200/468], loss: 0.34140052523435244\n",
            "[Epoch][Iterations]:[27/30][400/468], loss: 0.38059532116919426\n",
            "=> Epoch 27, elapsed time: 0.62 seconds\n",
            "[Epoch][Iterations]:[28/30][200/468], loss: 0.3881650538536247\n",
            "[Epoch][Iterations]:[28/30][400/468], loss: 0.43731466633090776\n",
            "=> Epoch 28, elapsed time: 0.61 seconds\n",
            "[Epoch][Iterations]:[29/30][200/468], loss: 0.36245726632052033\n",
            "[Epoch][Iterations]:[29/30][400/468], loss: 0.4058562284667377\n",
            "=> Epoch 29, elapsed time: 0.58 seconds\n"
          ]
        },
        {
          "output_type": "display_data",
          "data": {
            "text/plain": [
              "<Figure size 640x480 with 1 Axes>"
            ],
            "image/png": "[encoded data removed]"
          },
          "metadata": {}
        }
      ],
      "source": [
        "parameters, velocity = init_parameters(\n",
        "    num_inputs = X_train.shape[0],\n",
        "    num_hidden_1 = 9,\n",
        "    num_hidden_2 = 3,\n",
        "    num_outputs = num_classes,\n",
        ")\n",
        "\n",
        "trained_parameters = training_model(\n",
        "    parameters,\n",
        "    velocity,\n",
        "    batch_size = 128,\n",
        "    epoch = 30,\n",
        "    learning_rate = 0.25,\n",
        "    beta = 0.5,\n",
        "    weight_decay_lambda = 0.,\n",
        ")"
      ]
    },
    {
      "cell_type": "markdown",
      "metadata": {
        "id": "Hdo2Fcbxt0P5"
      },
      "source": [
        "### 3.2 Evaluate the performance of your model (<span style=\"color:green\">0.5 points</span>)"
      ]
    },
    {
      "cell_type": "code",
      "execution_count": null,
      "metadata": {
        "id": "TSKFn-UJt0P6"
      },
      "outputs": [],
      "source": [
        "def testing_model(X, parameters):\n",
        "    # TODO: implement the forward propagation for testing step (0.5 point)\n",
        "    # Hints: call forward_propagation() function and get the output A3\n",
        "    A3 = forward_propagation(X, parameters)[-1]\n",
        "\n",
        "    # Evaluate the performance of your model\n",
        "    predictions = np.argmax(A3, axis=0)\n",
        "    labels = np.argmax(Y_test, axis=0)\n",
        "\n",
        "    print(\"Confusion matrix:\\n{}\".format(confusion_matrix(labels, predictions)))\n",
        "    print(\"Testing accuracy: {}\".format(accuracy_score(labels, predictions)))"
      ]
    },
    {
      "cell_type": "code",
      "execution_count": null,
      "metadata": {
        "scrolled": false,
        "id": "rXIaXKFpt0P6",
        "outputId": "86d74384-7da7-4e06-f5a7-7152f1fc0c05",
        "colab": {
          "base_uri": "https://localhost:8080/"
        }
      },
      "outputs": [
        {
          "output_type": "stream",
          "name": "stdout",
          "text": [
            "Confusion matrix:\n",
            "[[813   0  16  68   3   1  88   0  11   0]\n",
            " [  0 950   0  31  15   0   3   0   1   0]\n",
            " [ 13   1 810   9  99   0  63   0   5   0]\n",
            " [ 34  31  11 834  49   2  37   0   2   0]\n",
            " [  0   0 190  30 725   0  53   0   2   0]\n",
            " [  0   0   0   0   0 910   0  34  11  45]\n",
            " [203   1 200  46  99   0 438   0  13   0]\n",
            " [  0   0   0   0   0  31   0 937   0  32]\n",
            " [ 10   1  30   3   3   8  17   4 924   0]\n",
            " [  0   0   0   0   0  16   0  42   1 941]]\n",
            "Testing accuracy: 0.8282\n"
          ]
        }
      ],
      "source": [
        "testing_model(X_test, trained_parameters)"
      ]
    },
    {
      "cell_type": "markdown",
      "metadata": {
        "id": "wMi-9vdVt0P6"
      },
      "source": [
        "## Part 4. Regularization and Hyperparameter Tuning (<span style=\"color:green\">3 points</span>)"
      ]
    },
    {
      "cell_type": "markdown",
      "metadata": {
        "id": "SCNDaWF4t0P6"
      },
      "source": [
        "### Implement weight decay loss and backward propagation  (<span style=\"color:green\">2 points</span>)"
      ]
    },
    {
      "cell_type": "markdown",
      "metadata": {
        "id": "t4vO9fGFt0P6"
      },
      "source": [
        "[Regularization](https://en.wikipedia.org/wiki/Regularization_(mathematics)) is a set of techniques in deep learning to prevent overfitting by adding a penalty term to the loss function, discouraging overly complex models, and promoting simpler, more generalizable ones. The loss function in regularization incorporates additional terms, like L1 or L2 regularization, which penalize large weights or complex models to prevent overfitting."
      ]
    },
    {
      "cell_type": "markdown",
      "metadata": {
        "id": "bxcL6f5st0P6"
      },
      "source": [
        "To implement weight decay regularization in our neural network, we can modify the loss function as follows:\n",
        "\n",
        "$$\n",
        "\\begin{align}\n",
        "L &= L_1 + L_2 \\tag{30} \\\\\n",
        "\\\\\n",
        "L_1 &= {\\rm cross\\_entropy}(Y, A_3) \\tag{31} \\\\\n",
        "L_2 &= \\frac{\\lambda}{2} \\left( ||W_1||_2^2 + ||W_2||_2^2 + ||W_3||_2^2 \\right) \\tag{32}\n",
        "\\end{align}\n",
        "$$\n",
        "\n",
        "Here $L_2$ denotes the weight decay loss, and $||\\cdot||_2^2$ is the [L2 Regularization](https://en.wikipedia.org/wiki/Regularization_(mathematics)). For example, $||W_1||_2^2$ is calculated by:\n",
        "$$\n",
        "||W_1||_2^2 = \\sum_{i=1}^{N}\\sum_{j=1}^{M}{W_1^{(ij)}}^2\n",
        "$$\n",
        "which directly sums the squares of all elements in $W_1$."
      ]
    },
    {
      "cell_type": "code",
      "execution_count": null,
      "metadata": {
        "id": "zeq-Z1Emt0P6"
      },
      "outputs": [],
      "source": [
        "def weight_decay_loss(parameters, lambd):\n",
        "    \"\"\"\n",
        "    Args:\n",
        "        parameters (tuple): Parameters in the model: W1, W2, W3\n",
        "        lambd (float): The coefficient of weight decay\n",
        "        m (float): The number of data samples in a mini batch\n",
        "    \"\"\"\n",
        "    W1, W2, W3 = parameters\n",
        "\n",
        "    # TODO: implement the weight decay loss in Eq. 32 (1 point)\n",
        "    # Hints: use np.sum() and np.power()\n",
        "    l2_reg_W1 = np.sum(np.power(W1, 2))\n",
        "    l2_reg_W2 = np.sum(np.power(W2, 2))\n",
        "    l2_reg_W3 = np.sum(np.power(W3, 2))\n",
        "\n",
        "    # Sum up the L2 regularization terms and apply the weight decay coefficient\n",
        "    weight_decay_loss = (lambd / 2) * (l2_reg_W1 + l2_reg_W2 + l2_reg_W3)\n",
        "    return weight_decay_loss"
      ]
    },
    {
      "cell_type": "code",
      "execution_count": null,
      "metadata": {
        "id": "aolIH0Got0P6",
        "outputId": "bfe35899-a3c5-49a1-b937-27584a78a0fc",
        "colab": {
          "base_uri": "https://localhost:8080/"
        }
      },
      "outputs": [
        {
          "output_type": "stream",
          "name": "stdout",
          "text": [
            "loss: 3.5471489737579916e-05\n"
          ]
        }
      ],
      "source": [
        "np.random.seed(1)\n",
        "parameters, _ = init_parameters(num_inputs, num_hidden_1, num_hidden_2, num_outputs)\n",
        "\n",
        "loss = weight_decay_loss(parameters, lambd=0.0001)\n",
        "print('loss:', loss)"
      ]
    },
    {
      "cell_type": "markdown",
      "metadata": {
        "id": "psKXBt2Ot0P7"
      },
      "source": [
        "**<span style=\"color:green\">Reference Results:</span>** <br>\n",
        "loss: 0.35471489737579914"
      ]
    },
    {
      "cell_type": "markdown",
      "metadata": {
        "id": "4u_8TuZot0P7"
      },
      "source": [
        "As here we use a new loss function $L$, we need to calculate the derivative $L$ with respect to $W_1, W_2, W_3$ for backward propagation again.\n",
        "\n",
        "Take $W_1$ as an example, the derivative of $L$ with respect to $W_1$ is calculated by:\n",
        "$$\n",
        "\\begin{align}\n",
        "d W_{1(new)} &= \\frac{\\partial L}{\\partial W_1} = \\frac{\\partial L_1}{\\partial W_1} + \\frac{\\partial L_2}{\\partial W_1} = dW_1 + \\lambda W_1 \\tag{33}\n",
        "\\end{align}\n",
        "$$\n",
        "\n",
        "Here $dW_1$ is the previous derivative same as Eq. 23."
      ]
    },
    {
      "cell_type": "code",
      "execution_count": null,
      "metadata": {
        "id": "aSC1OEjBt0P7"
      },
      "outputs": [],
      "source": [
        "def backward_propagation_with_weight_decay(X, Y, parameters, outputs, lambd):\n",
        "    \"\"\"Method for forward propagation.\n",
        "    Args:\n",
        "        X (np.array): Input data\n",
        "        Y (np.array): Ground truth of input data\n",
        "        parameters (tuple): Parameters in the model: W1, W2, W3\n",
        "        outputs (tuple): The forward propagation outputs: Z1, A1, Z2, A2, Z3, A3\n",
        "        lambd (float): The coefficient of weight decay\n",
        "\n",
        "    Returns:\n",
        "        tuple: The computed gradients: dW1, dW2, dW3\n",
        "    \"\"\"\n",
        "\n",
        "    W1, W2, W3 = parameters\n",
        "    dW1, dW2, dW3 = backward_propagation(X, Y, parameters, outputs)\n",
        "\n",
        "    # TODO: calculate the new derivative of L with respect to W1, W2, and W3 based on Eq. 33 (1 point)\n",
        "    dW3_new = dW3 + lambd * W3\n",
        "    dW2_new = dW2 + lambd * W2\n",
        "    dW1_new = dW1 + lambd * W1\n",
        "\n",
        "    return dW1_new, dW2_new, dW3_new"
      ]
    },
    {
      "cell_type": "code",
      "execution_count": null,
      "metadata": {
        "scrolled": true,
        "id": "-7p28a87t0P7",
        "outputId": "15b9ae7c-8598-4342-87af-6d29677ef0ac",
        "colab": {
          "base_uri": "https://localhost:8080/"
        }
      },
      "outputs": [
        {
          "output_type": "stream",
          "name": "stdout",
          "text": [
            "\n",
            "Example results in dW3 (new):\n",
            "[-0.14242674 -0.14242932 -0.14242636 -0.14242926 -0.14242567 -0.14243265\n",
            " -0.14242972 -0.14243223 -0.14242655 -0.14242867]\n",
            "\n",
            "Example results in dW2 (new):\n",
            "[ 0.10792482 -0.06470114  0.05423559]\n",
            "\n",
            "Example results in dW1 (new):\n",
            "[ 3.92401118e-04 -1.45697889e-04  1.60557783e-04  1.03801584e-04\n",
            "  1.72166124e-04 -1.24030974e-04  8.94950764e-05  3.06670633e-04\n",
            "  1.73065949e-04]\n"
          ]
        }
      ],
      "source": [
        "np.random.seed(1)\n",
        "X = np.random.randn(num_inputs, 2)\n",
        "Y = np.random.randint(1, num_classes, (2, ))\n",
        "\n",
        "parameters, _ = init_parameters(num_inputs, num_hidden_1, num_hidden_2, num_outputs)\n",
        "outputs = forward_propagation(X, parameters)\n",
        "dW1_new, dW2_new, dW3_new = backward_propagation_with_weight_decay(X, Y, parameters, outputs, lambd=0.0001)\n",
        "\n",
        "print('\\nExample results in dW3 (new):')\n",
        "print(dW3_new[:, 0])\n",
        "\n",
        "print('\\nExample results in dW2 (new):')\n",
        "print(dW2_new[:, 0])\n",
        "\n",
        "print('\\nExample results in dW1 (new):')\n",
        "print(dW1_new[:, 0])"
      ]
    },
    {
      "cell_type": "markdown",
      "metadata": {
        "id": "1LU87MCpt0P7"
      },
      "source": [
        "**<span style=\"color:green\">Reference Results:</span>** <br>\n",
        "Example results in dW3 (new):<br>\n",
        "[-11.0768454  -11.18333839 -11.07941469 -11.15094559  -9.30678255<br>\n",
        " -11.18963176 -11.1838994  -11.18909476 -10.89788101 -11.14890796]<br>\n",
        "\n",
        "Example results in dW2 (new):<br>\n",
        "[ 9.68498668 -5.58462452  4.69335025]<br>\n",
        "\n",
        "Example results in dW1 (new):<br>\n",
        "[ 1.42425268e-02 -6.39850968e-01 -1.87264211e-05 -2.81056313e-05<br>\n",
        "  2.11108273e-04  1.11403812e-04 -3.10541295e-05  4.55282195e-05<br>\n",
        "  4.47521792e-03]<br>"
      ]
    },
    {
      "cell_type": "markdown",
      "metadata": {
        "id": "UqQJ4aK6t0P7"
      },
      "source": [
        "### Hyperparameter Tuning (<span style=\"color:green\">1 points</span>)"
      ]
    },
    {
      "cell_type": "markdown",
      "metadata": {
        "id": "HEeoyMcyt0P7"
      },
      "source": [
        "[Hyperparameter Tuning](https://en.wikipedia.org/wiki/Hyperparameter_optimization) is an effective way to optimize the performance of neural network models in machine learning.\n",
        "\n",
        "For our neural network, we can adjust many hyper-parameters, such as learning rate, batch size, weight decay coefficient, training epochs, and the model architecture choices (number of neruons in hidden layers)."
      ]
    },
    {
      "cell_type": "code",
      "execution_count": null,
      "metadata": {
        "scrolled": true,
        "id": "WBX7Olnft0P7",
        "outputId": "7353ea0c-aff8-4c22-8445-2ff5a5c31849",
        "colab": {
          "base_uri": "https://localhost:8080/",
          "height": 1000
        }
      },
      "outputs": [
        {
          "output_type": "stream",
          "name": "stdout",
          "text": [
            "Start training the model:\n",
            "Number of training samples: 60000\n",
            "Number of batchs: 468\n",
            "[Epoch][Iterations]:[0/30][200/468], loss: 2.3026135728027155\n",
            "[Epoch][Iterations]:[0/30][400/468], loss: 2.302610182691212\n",
            "=> Epoch 0, elapsed time: 2.53 seconds\n",
            "[Epoch][Iterations]:[1/30][200/468], loss: 2.302529370334774\n",
            "[Epoch][Iterations]:[1/30][400/468], loss: 2.132251609546748\n",
            "=> Epoch 1, elapsed time: 2.98 seconds\n",
            "[Epoch][Iterations]:[2/30][200/468], loss: 1.9817312046828413\n",
            "[Epoch][Iterations]:[2/30][400/468], loss: 1.6140048901554471\n",
            "=> Epoch 2, elapsed time: 2.52 seconds\n",
            "[Epoch][Iterations]:[3/30][200/468], loss: 1.0537820299681364\n",
            "[Epoch][Iterations]:[3/30][400/468], loss: 0.8450570507883223\n",
            "=> Epoch 3, elapsed time: 2.36 seconds\n",
            "[Epoch][Iterations]:[4/30][200/468], loss: 0.7937879282709739\n",
            "[Epoch][Iterations]:[4/30][400/468], loss: 0.8501774421930955\n",
            "=> Epoch 4, elapsed time: 2.47 seconds\n",
            "[Epoch][Iterations]:[5/30][200/468], loss: 0.7856165147842071\n",
            "[Epoch][Iterations]:[5/30][400/468], loss: 0.7576979721932287\n",
            "=> Epoch 5, elapsed time: 2.17 seconds\n",
            "[Epoch][Iterations]:[6/30][200/468], loss: 0.5912002526440222\n",
            "[Epoch][Iterations]:[6/30][400/468], loss: 0.7236309776834583\n",
            "=> Epoch 6, elapsed time: 3.38 seconds\n",
            "[Epoch][Iterations]:[7/30][200/468], loss: 0.583398846633969\n",
            "[Epoch][Iterations]:[7/30][400/468], loss: 0.5716677636207074\n",
            "=> Epoch 7, elapsed time: 1.70 seconds\n",
            "[Epoch][Iterations]:[8/30][200/468], loss: 0.5025777969782759\n",
            "[Epoch][Iterations]:[8/30][400/468], loss: 0.574170781854513\n",
            "=> Epoch 8, elapsed time: 0.82 seconds\n",
            "[Epoch][Iterations]:[9/30][200/468], loss: 0.5512241534327046\n",
            "[Epoch][Iterations]:[9/30][400/468], loss: 0.576598588693549\n",
            "=> Epoch 9, elapsed time: 0.82 seconds\n",
            "[Epoch][Iterations]:[10/30][200/468], loss: 0.5261894987438864\n",
            "[Epoch][Iterations]:[10/30][400/468], loss: 0.5219126067334813\n",
            "=> Epoch 10, elapsed time: 0.83 seconds\n",
            "[Epoch][Iterations]:[11/30][200/468], loss: 0.4636425822216371\n",
            "[Epoch][Iterations]:[11/30][400/468], loss: 0.517158156363146\n",
            "=> Epoch 11, elapsed time: 0.81 seconds\n",
            "[Epoch][Iterations]:[12/30][200/468], loss: 0.43845728223470654\n",
            "[Epoch][Iterations]:[12/30][400/468], loss: 0.6602871723592662\n",
            "=> Epoch 12, elapsed time: 0.85 seconds\n",
            "[Epoch][Iterations]:[13/30][200/468], loss: 0.4176840359601199\n",
            "[Epoch][Iterations]:[13/30][400/468], loss: 0.4487440869221341\n",
            "=> Epoch 13, elapsed time: 0.83 seconds\n",
            "[Epoch][Iterations]:[14/30][200/468], loss: 0.451673023761601\n",
            "[Epoch][Iterations]:[14/30][400/468], loss: 0.32532159176426717\n",
            "=> Epoch 14, elapsed time: 0.81 seconds\n",
            "[Epoch][Iterations]:[15/30][200/468], loss: 0.4791373178080334\n",
            "[Epoch][Iterations]:[15/30][400/468], loss: 0.5194147368827088\n",
            "=> Epoch 15, elapsed time: 0.85 seconds\n",
            "[Epoch][Iterations]:[16/30][200/468], loss: 0.5475550348866577\n",
            "[Epoch][Iterations]:[16/30][400/468], loss: 0.501851589484797\n",
            "=> Epoch 16, elapsed time: 0.86 seconds\n",
            "[Epoch][Iterations]:[17/30][200/468], loss: 0.46912863818717454\n",
            "[Epoch][Iterations]:[17/30][400/468], loss: 0.5712261800406212\n",
            "=> Epoch 17, elapsed time: 0.85 seconds\n",
            "[Epoch][Iterations]:[18/30][200/468], loss: 0.5414701620051241\n",
            "[Epoch][Iterations]:[18/30][400/468], loss: 0.4393829578523147\n",
            "=> Epoch 18, elapsed time: 0.82 seconds\n",
            "[Epoch][Iterations]:[19/30][200/468], loss: 0.4340136994411561\n",
            "[Epoch][Iterations]:[19/30][400/468], loss: 0.4669371093204632\n",
            "=> Epoch 19, elapsed time: 1.12 seconds\n",
            "[Epoch][Iterations]:[20/30][200/468], loss: 0.3423238104389091\n",
            "[Epoch][Iterations]:[20/30][400/468], loss: 0.5554953100255511\n",
            "=> Epoch 20, elapsed time: 1.62 seconds\n",
            "[Epoch][Iterations]:[21/30][200/468], loss: 0.5664632506158268\n",
            "[Epoch][Iterations]:[21/30][400/468], loss: 0.41816020811094967\n",
            "=> Epoch 21, elapsed time: 1.64 seconds\n",
            "[Epoch][Iterations]:[22/30][200/468], loss: 0.44346147970061744\n",
            "[Epoch][Iterations]:[22/30][400/468], loss: 0.3983151532736505\n",
            "=> Epoch 22, elapsed time: 1.68 seconds\n",
            "[Epoch][Iterations]:[23/30][200/468], loss: 0.4658987506249198\n",
            "[Epoch][Iterations]:[23/30][400/468], loss: 0.5220171484988784\n",
            "=> Epoch 23, elapsed time: 0.81 seconds\n",
            "[Epoch][Iterations]:[24/30][200/468], loss: 0.41076160722501753\n",
            "[Epoch][Iterations]:[24/30][400/468], loss: 0.3428982469257831\n",
            "=> Epoch 24, elapsed time: 0.84 seconds\n",
            "[Epoch][Iterations]:[25/30][200/468], loss: 0.4666656127099198\n",
            "[Epoch][Iterations]:[25/30][400/468], loss: 0.5724343230839665\n",
            "=> Epoch 25, elapsed time: 0.83 seconds\n",
            "[Epoch][Iterations]:[26/30][200/468], loss: 0.40560866968367004\n",
            "[Epoch][Iterations]:[26/30][400/468], loss: 0.3726265642322061\n",
            "=> Epoch 26, elapsed time: 0.82 seconds\n",
            "[Epoch][Iterations]:[27/30][200/468], loss: 0.4599490440126845\n",
            "[Epoch][Iterations]:[27/30][400/468], loss: 0.34350343092136193\n",
            "=> Epoch 27, elapsed time: 0.90 seconds\n",
            "[Epoch][Iterations]:[28/30][200/468], loss: 0.4196947667362039\n",
            "[Epoch][Iterations]:[28/30][400/468], loss: 0.39765928020422214\n",
            "=> Epoch 28, elapsed time: 0.90 seconds\n",
            "[Epoch][Iterations]:[29/30][200/468], loss: 0.3707249337644693\n",
            "[Epoch][Iterations]:[29/30][400/468], loss: 0.4258392128855209\n",
            "=> Epoch 29, elapsed time: 0.87 seconds\n"
          ]
        },
        {
          "output_type": "display_data",
          "data": {
            "text/plain": [
              "<Figure size 640x480 with 1 Axes>"
            ],
            "image/png": "[encoded data removed]"
          },
          "metadata": {}
        }
      ],
      "source": [
        "# TODO: adjust the values of hyper-parameters below and try to improve the testing accuracy. (1 point)\n",
        "# Hints: try to adjust 'num_hidden_2', 'weight_decay_lambda' or other hyper-parameters\n",
        "\n",
        "parameters, velocity = init_parameters(\n",
        "    num_inputs = X_train.shape[0],\n",
        "    num_hidden_1 = 9,\n",
        "    num_hidden_2 = 5, #\n",
        "    num_outputs=num_classes\n",
        ")\n",
        "\n",
        "trained_parameters = training_model(\n",
        "    parameters,\n",
        "    velocity,\n",
        "    batch_size = 128,\n",
        "    epoch = 30,\n",
        "    learning_rate = 0.3, #.25\n",
        "    beta = 0.5,\n",
        "    weight_decay_lambda = 0.0001, #0.0001\n",
        ")"
      ]
    },
    {
      "cell_type": "code",
      "execution_count": null,
      "metadata": {
        "id": "-cIJqQ1vt0P7",
        "outputId": "bf4e1cd2-f579-4b62-c9c3-63dd638a32ef",
        "colab": {
          "base_uri": "https://localhost:8080/"
        }
      },
      "outputs": [
        {
          "output_type": "stream",
          "name": "stdout",
          "text": [
            "Confusion matrix:\n",
            "[[835  12  11  32   2   0  95   0  13   0]\n",
            " [  3 955   0  25  14   0   2   0   1   0]\n",
            " [ 17   2 533   8 249   0 181   0  10   0]\n",
            " [ 54  30  14 817  33   1  48   0   3   0]\n",
            " [  0   3  50  29 796   0 117   0   5   0]\n",
            " [  1   0   0   0   0 928   0  41   4  26]\n",
            " [173  13  54  24  90   0 620   0  26   0]\n",
            " [  0   0   0   0   0  21   0 949   0  30]\n",
            " [  1   0   5   3   3   2  14   4 968   0]\n",
            " [  0   0   0   0   0  15   0  47   1 937]]\n",
            "Testing accuracy: 0.8338\n"
          ]
        }
      ],
      "source": [
        "testing_model(X_test, trained_parameters)"
      ]
    },
    {
      "cell_type": "markdown",
      "metadata": {
        "id": "egVSND5rt0P7"
      },
      "source": [
        "**<span style=\"color:green\">Reference Results:</span>** <br>\n",
        "Testing accuracy: 0.8000<br>\n",
        "\n",
        "(You can get this grade point if your accuracy reach 0.8 or better)"
      ]
    },
    {
      "cell_type": "code",
      "execution_count": null,
      "metadata": {
        "id": "AwZhqqfBt0P8"
      },
      "outputs": [],
      "source": []
    }
  ],
  "metadata": {
    "kernelspec": {
      "display_name": "Python 3 (ipykernel)",
      "language": "python",
      "name": "python3"
    },
    "language_info": {
      "codemirror_mode": {
        "name": "ipython",
        "version": 3
      },
      "file_extension": ".py",
      "mimetype": "text/x-python",
      "name": "python",
      "nbconvert_exporter": "python",
      "pygments_lexer": "ipython3",
      "version": "3.9.16"
    },
    "colab": {
      "provenance": [],
      "include_colab_link": true
    }
  },
  "nbformat": 4,
  "nbformat_minor": 0
}